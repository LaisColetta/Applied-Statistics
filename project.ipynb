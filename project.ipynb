{
 "cells": [
  {
   "cell_type": "markdown",
   "metadata": {},
   "source": [
    "## Project Applied Statistics - Winter 2024\n",
    "\n",
    "Lecturer: Ian McLoughlin  \n",
    "Author: Lais Coletta Pereira  \n",
    "\n",
    "---\n",
    "\n",
    "Project ask: Your task is to perform t-tests and ANOVA on this dataset while describing the dataset and explaining your work. In doing this you should:\n",
    "\n",
    "**1. Download and save the dataset to your repository.**\n",
    "\n",
    "**2. Describe the data set in your notebook.**\n",
    "\n",
    "**3. Describe what a t-test is, how it works, and what the assumptions are.**\n",
    "\n",
    "**4. Perform a t-test to determine whether there is a significant difference between the two treatment groups trt1 and trt2.**\n",
    "\n",
    "**5. Perform ANOVA to determine whether there is a significant difference between the three treatment groups ctrl, trt1, and trt2.**\n",
    "\n",
    "**6. Explain why it is more appropriate to apply ANOVA rather than several t-tests when analyzing more than two groups.**\n",
    "\n",
    "---\n"
   ]
  },
  {
   "cell_type": "markdown",
   "metadata": {},
   "source": [
    "Import necessary libraries"
   ]
  },
  {
   "cell_type": "code",
   "execution_count": 29,
   "metadata": {},
   "outputs": [],
   "source": [
    "# Import libraries\n",
    "# Data manipulation and analysis\n",
    "import pandas as pd\n",
    "import numpy as np\n",
    "\n",
    "# Visualization\n",
    "import matplotlib.pyplot as plt\n",
    "import seaborn as sns\n",
    "\n",
    "# Statistical tests\n",
    "import scipy.stats as stats\n",
    "from scipy.stats import levene\n",
    "\n",
    "# Statistical modeling\n",
    "import statsmodels.api as sm\n",
    "from statsmodels.stats.multicomp import pairwise_tukeyhsd, MultiComparison\n"
   ]
  },
  {
   "cell_type": "markdown",
   "metadata": {},
   "source": [
    "### **_1. Download and Load the Dataset_**"
   ]
  },
  {
   "cell_type": "code",
   "execution_count": 30,
   "metadata": {},
   "outputs": [],
   "source": [
    "# URL of the dataset\n",
    "url = \"https://vincentarelbundock.github.io/Rdatasets/csv/datasets/PlantGrowth.csv\"\n",
    "\n",
    "# Load the dataset from the URL\n",
    "df = pd.read_csv(url)\n",
    "\n",
    "# Define the path to save the dataset\n",
    "path = \"/Users/laiscoletta/Desktop/DA_Final_Semester/Applied-Statistics/plantgrowth.csv\"\n",
    "\n",
    "# Save the dataset as plantgrowth.csv in the 'Applied-Statistics' folder\n",
    "df.to_csv(path, index=False)"
   ]
  },
  {
   "cell_type": "markdown",
   "metadata": {},
   "source": [
    "### **_2. Describe the data set in your notebook:_**"
   ]
  },
  {
   "cell_type": "code",
   "execution_count": 31,
   "metadata": {},
   "outputs": [
    {
     "name": "stdout",
     "output_type": "stream",
     "text": [
      "        rownames     weight\n",
      "count  30.000000  30.000000\n",
      "mean   15.500000   5.073000\n",
      "std     8.803408   0.701192\n",
      "min     1.000000   3.590000\n",
      "25%     8.250000   4.550000\n",
      "50%    15.500000   5.155000\n",
      "75%    22.750000   5.530000\n",
      "max    30.000000   6.310000\n"
     ]
    }
   ],
   "source": [
    "print(df.describe())"
   ]
  },
  {
   "cell_type": "markdown",
   "metadata": {},
   "source": [
    "**Observations:** \n",
    "1. The weight variable shows moderate variability (std = 0.701), with weights ranging from 3.59 to 6.31 grams.\n",
    "2. The median weight (5.155) is close to the mean (5.073), indicating a symmetric distribution."
   ]
  },
  {
   "cell_type": "code",
   "execution_count": 32,
   "metadata": {},
   "outputs": [
    {
     "name": "stdout",
     "output_type": "stream",
     "text": [
      "\n",
      "Dataset Information:\n",
      "<class 'pandas.core.frame.DataFrame'>\n",
      "RangeIndex: 30 entries, 0 to 29\n",
      "Data columns (total 3 columns):\n",
      " #   Column    Non-Null Count  Dtype  \n",
      "---  ------    --------------  -----  \n",
      " 0   rownames  30 non-null     int64  \n",
      " 1   weight    30 non-null     float64\n",
      " 2   group     30 non-null     object \n",
      "dtypes: float64(1), int64(1), object(1)\n",
      "memory usage: 852.0+ bytes\n",
      "\n",
      "Missing Values in Dataset:\n",
      "No missing values detected. \n",
      "\n",
      "\\Amount Distribution:\n",
      "group\n",
      "ctrl    10\n",
      "trt1    10\n",
      "trt2    10\n",
      "Name: count, dtype: int64 \n",
      "\n"
     ]
    }
   ],
   "source": [
    "# Dataset overview\n",
    "# Documentation: https://pandas.pydata.org/docs/reference/api/pandas.DataFrame.info.html\n",
    "print(\"\\nDataset Information:\")\n",
    "df.info()  \n",
    "\n",
    "# Check for missing values and report if any\n",
    "# Documentation: https://pandas.pydata.org/docs/reference/api/pandas.DataFrame.isnull.html\n",
    "missing_values = df.isnull().sum()\n",
    "print(\"\\nMissing Values in Dataset:\")\n",
    "print(missing_values if missing_values.any() else \"No missing values detected.\", \"\\n\")\n",
    "\n",
    "# Fixing the invalid escape sequence\n",
    "print(\"\\\\Amount Distribution:\")\n",
    "print(df['group'].value_counts(), \"\\n\")\n"
   ]
  },
  {
   "cell_type": "code",
   "execution_count": 33,
   "metadata": {},
   "outputs": [
    {
     "name": "stdout",
     "output_type": "stream",
     "text": [
      "\n",
      "Dataset Description:\n",
      "\n",
      "The PlantGrowth dataset consists of 30 observations and 3 columns:\n",
      "1. 'weight': A numerical variable representing the weight of plants.\n",
      "   - Range: 3.59 to 6.31 grams\n",
      "   - Mean: 5.073 grams\n",
      "   - Standard Deviation: 0.701 grams\n",
      "2. 'group': A categorical variable with three treatment groups:\n",
      "   - Control group ('ctrl'): 10 observations\n",
      "   - Treatment 1 ('trt1'): 10 observations\n",
      "   - Treatment 2 ('trt2'): 10 observations\n",
      "\n"
     ]
    }
   ],
   "source": [
    "# Dataset Description\n",
    "print(\"\\nDataset Description:\")\n",
    "print(f\"\"\"\n",
    "The PlantGrowth dataset consists of {len(df)} observations and {df.shape[1]} columns:\n",
    "1. 'weight': A numerical variable representing the weight of plants.\n",
    "   - Range: {df['weight'].min()} to {df['weight'].max()} grams\n",
    "   - Mean: {df['weight'].mean():.3f} grams\n",
    "   - Standard Deviation: {df['weight'].std():.3f} grams\n",
    "2. 'group': A categorical variable with three treatment groups:\n",
    "   - Control group ('ctrl'): {df['group'].value_counts()['ctrl']} observations\n",
    "   - Treatment 1 ('trt1'): {df['group'].value_counts()['trt1']} observations\n",
    "   - Treatment 2 ('trt2'): {df['group'].value_counts()['trt2']} observations\n",
    "\"\"\")"
   ]
  },
  {
   "cell_type": "markdown",
   "metadata": {},
   "source": [
    "### **_3. Describe what a t-test is, how it works, and what the assumptions are._**"
   ]
  },
  {
   "cell_type": "markdown",
   "metadata": {},
   "source": [
    "### 1. What a T-test is\n",
    "\n",
    "A **Student's t-test** is a statistical method used to determine if there is a significant difference between the means of two groups. This test is particularly useful when the sample size is small (typically less than 30) and assumes the data follows a normal distribution. It is often employed in hypothesis testing, where the test statistic follows a t-distribution. This distribution is similar to a normal distribution but has wider tails to account for the increased variability found in small samples [Source Wikipedia](https://en.wikipedia.org/wiki/Student%27s_t-test).\n",
    "\n",
    "**Types of T-Tests:**\n",
    "- **One-sample t-test**: This compares the mean of a single sample to a known or hypothesized population mean. It checks whether the sample mean is significantly different from the reference value.\n",
    "- **Independent (Unpaired) two-sample t-test**: This compares the means of two independent, uncorrelated groups to see if there is a significant difference.\n",
    "- **Paired (Dependent) two-sample t-test**: This compares the means of two related groups, such as the same group before and after an intervention, to evaluate if the changes are statistically significant.\n",
    "\n",
    "#### The formulas for the different types of t-test are as follows: \n",
    "\n",
    "**One-Sample T-test Formula**\n",
    "\n",
    "The formula for the one-sample t-test is:\n",
    "\n",
    "$$\n",
    "t = \\frac{\\bar{x} - \\mu_0}{\\frac{s}{\\sqrt{n}}}\n",
    "$$\n",
    "\n",
    "Where:\n",
    "- $\\bar{x}$ is the sample mean,\n",
    "- $\\mu_0$ is the hypothesized population mean,\n",
    "- $s$ is the sample standard deviation,\n",
    "- $n$ is the sample size.\n",
    "\n",
    "**Independent (Unpaired) Two-Sample T-test Formula**\n",
    "\n",
    "For independent samples, the formula is:\n",
    "\n",
    "$$\n",
    "t = \\frac{\\bar{x_1} - \\bar{x_2}}{\\sqrt{\\frac{s_1^2}{n_1} + \\frac{s_2^2}{n_2}}}\n",
    "$$\n",
    "\n",
    "Where:\n",
    "- $\\bar{x_1}$ and $\\bar{x_2}$ are the sample means for groups 1 and 2,\n",
    "- $s_1^2$ and $s_2^2$ are the sample variances,\n",
    "- $n_1$ and $n_2$ are the sample sizes for each group.\n",
    "\n",
    "If the sample sizes are equal, a pooled variance estimate is used:\n",
    "\n",
    "$$\n",
    "t = \\frac{\\bar{x_1} - \\bar{x_2}}{\\sqrt{\\frac{(n_1-1)s_1^2 + (n_2-1)s_2^2}{n_1 + n_2 - 2} \\left( \\frac{1}{n_1} + \\frac{1}{n_2} \\right)}}\n",
    "$$\n",
    "\n",
    "**Paired Two-Sample T-test Formula**\n",
    "\n",
    "For paired data, the formula is:\n",
    "\n",
    "$$\n",
    "t = \\frac{\\bar{d}}{\\frac{s_d}{\\sqrt{n}}}\n",
    "$$\n",
    "\n",
    "Where:\n",
    "- $\\bar{d}$ is the mean difference between paired observations,\n",
    "- $s_d$ is the standard deviation of the differences,\n",
    "- $n$ is the number of pairs.\n",
    "\n",
    "### 2. How does a T-test work?\n",
    "\n",
    "A T-test works by comparing the means of two groups (or a sample mean and a population mean) to see if the differences between them are statistically significant. To get to this conclusion, we must formulate hypotheses:\n",
    "\n",
    "- **Null Hypothesis**: This assumes that the means of the two groups are equal ($H_0: \\mu_1 = \\mu_2$).\n",
    "- **Alternative Hypothesis ($H_1$)**: This assumes that the means are different ($H_A: \\mu_1 \\neq \\mu_2$).\n",
    "\n",
    "The **significance level ($\\alpha$)** is predetermined, typically set at 0.05. This level helps in deciding whether to reject the null hypothesis or not, based on the p-value obtained from the t-test.\n",
    "\n",
    "**One-Tailed vs Two-Tailed T-Test**\n",
    "\n",
    "The t-test can be either one-tailed or two-tailed:\n",
    "- A **one-tailed test** is used if there is a specific direction in the hypothesis (e.g., \"greater than\" or \"less than\").\n",
    "- A **two-tailed test** is used if the hypothesis only asks whether there is a difference, without specifying the direction.\n",
    "\n",
    "**Making a Decision**\n",
    "\n",
    "After calculating the t-statistic and the p-value, the decision is made whether to reject the null hypothesis:\n",
    "- If $p \\leq \\alpha$, reject the null hypothesis and conclude that there is a significant difference between the groups.\n",
    "- If $p > \\alpha$, fail to reject the null hypothesis, indicating no significant difference.\n",
    "\n",
    "\n",
    "### 3. Assumptions of a T-test\n",
    "Before performing a t-test, several assumptions must be met:\n",
    "\n",
    "##### **3.1 Assumption of Continuous Data:** \n",
    "The data should consist of continuous numerical values, allowing accurate mean and standard deviation. We should ensure 'weight' has no missing or outlier values.\n",
    "**\n",
    "##### **3.2 Assumption of Random Sampling:**\n",
    "Random sampling is typically ensured during data collection. **Visualizations** plots such as a **Boxplot** can help identify patterns as follows:"
   ]
  },
  {
   "cell_type": "code",
   "execution_count": 34,
   "metadata": {},
   "outputs": [
    {
     "data": {
      "image/png": "[encoded data removed]",
      "text/plain": [
       "<Figure size 640x480 with 1 Axes>"
      ]
     },
     "metadata": {},
     "output_type": "display_data"
    }
   ],
   "source": [
    "# Boxplot to visualize distributions\n",
    "sns.boxplot(x='group', y='weight', data=df)\n",
    "plt.title('Boxplot of Weight by Group')\n",
    "plt.show()"
   ]
  },
  {
   "cell_type": "markdown",
   "metadata": {},
   "source": [
    "_The boxplot indicates that the control group (ctrl) and Treatment 1 (trt1) have similar weight distributions, while Treatment 2 (trt2) appears to have a higher median weight, with less variability compared to the others._"
   ]
  },
  {
   "cell_type": "markdown",
   "metadata": {},
   "source": [
    "\n",
    "##### **3.3 Assumption of Normal Distribution**: \n",
    "The data for each group should be normally distributed.\n",
    "We can check normality using the Shapiro-Wilk test and histograms for each group and plot histograms to visualize the distributions.\n"
   ]
  },
  {
   "cell_type": "code",
   "execution_count": 35,
   "metadata": {},
   "outputs": [
    {
     "name": "stdout",
     "output_type": "stream",
     "text": [
      "Normality Tests (Shapiro-Wilk Test):\n",
      "Control - Stat: 0.957, P-value: 0.747\n",
      "Treatment 1 - Stat: 0.930, P-value: 0.452\n",
      "Treatment 2 - Stat: 0.941, P-value: 0.564\n"
     ]
    },
    {
     "data": {
      "image/png": "[encoded data removed]",
      "text/plain": [
       "<Figure size 1500x500 with 3 Axes>"
      ]
     },
     "metadata": {},
     "output_type": "display_data"
    }
   ],
   "source": [
    "# Doucumentation: https://docs.scipy.org/doc/scipy/reference/generated/scipy.stats.shapiro.html \n",
    "# Reference Code: https://www.geeksforgeeks.org/how-to-perform-a-shapiro-wilk-test-in-python/\n",
    "# Extract group data\n",
    "ctrlw = df[df['group'] == 'ctrl']['weight']\n",
    "trt1w = df[df['group'] == 'trt1']['weight']\n",
    "trt2w = df[df['group'] == 'trt2']['weight']\n",
    "\n",
    "# Perform Shapiro-Wilk test\n",
    "shapctrl, pshapctrl = stats.shapiro(ctrlw)\n",
    "shaptrt1, pshaptrt1 = stats.shapiro(trt1w)\n",
    "shaptrt2, pshaptrt2 = stats.shapiro(trt2w)\n",
    "\n",
    "# Display results\n",
    "print(\"Normality Tests (Shapiro-Wilk Test):\")\n",
    "print(f\"Control - Stat: {shapctrl:.3f}, P-value: {pshapctrl:.3f}\")\n",
    "print(f\"Treatment 1 - Stat: {shaptrt1:.3f}, P-value: {pshaptrt1:.3f}\")\n",
    "print(f\"Treatment 2 - Stat: {shaptrt2:.3f}, P-value: {pshaptrt2:.3f}\")\n",
    "\n",
    "# Plot histograms\n",
    "fig, axes = plt.subplots(1, 3, figsize=(15, 5), sharey=True)\n",
    "\n",
    "axes[0].hist(ctrlw, bins=10, color='blue', alpha=0.7, edgecolor='black')\n",
    "axes[0].set_title('Control Group')\n",
    "axes[0].set_xlabel('Weight')\n",
    "axes[0].set_ylabel('Frequency')\n",
    "\n",
    "axes[1].hist(trt1w, bins=10, color='green', alpha=0.7, edgecolor='black')\n",
    "axes[1].set_title('Treatment 1 Group')\n",
    "axes[1].set_xlabel('Weight')\n",
    "\n",
    "axes[2].hist(trt2w, bins=10, color='orange', alpha=0.7, edgecolor='black')\n",
    "axes[2].set_title('Treatment 2 Group')\n",
    "axes[2].set_xlabel('Weight')\n",
    "\n",
    "plt.suptitle('Histograms of Weight by Group', fontsize=16, fontweight='bold')\n",
    "plt.tight_layout()\n",
    "plt.show()\n"
   ]
  },
  {
   "cell_type": "markdown",
   "metadata": {},
   "source": [
    "_The histograms for the three groups (Control, Treatment 1, and Treatment 2) show roughly symmetrical distributions of weight. The Shapiro-Wilk test results indicate that all groups have p-values > 0.05, suggesting no significant deviation from normality._"
   ]
  },
  {
   "cell_type": "markdown",
   "metadata": {},
   "source": [
    "A **Q-Q plot** (Quantile-Quantile plot) is also used to assess whether a dataset follows a **normal distribution**. It compares the quantiles of the dataset against the quantiles of a normal distribution. If the data points lie approximately along a straight line, the data is roughly normally distributed. Deviations from this straight line suggest departures from normality. (Source: [Arc Gis](https://desktop.arcgis.com/en/arcmap/latest/extensions/geostatistical-analyst/normal-qq-plot-and-general-qq-plot.htm#:~:text=QQ%20plot%20example-,Examining%20data%20distributions%20using%20QQ%20plots,deviate%20from%20the%20reference%20line.))"
   ]
  },
  {
   "cell_type": "code",
   "execution_count": 36,
   "metadata": {},
   "outputs": [
    {
     "data": {
      "image/png": "[encoded data removed]",
      "text/plain": [
       "<Figure size 800x600 with 1 Axes>"
      ]
     },
     "metadata": {},
     "output_type": "display_data"
    }
   ],
   "source": [
    "# Python code from: https://www.datacamp.com/tutorial/qq-plot\n",
    "plt.figure(figsize=(8, 6))\n",
    "stats.probplot(df['weight'], dist=\"norm\", plot=plt)\n",
    "\n",
    "# Title and labels\n",
    "plt.title('Q-Q Plot for Weight', fontsize=16)\n",
    "plt.xlabel('Theoretical Quantiles', fontsize=12)\n",
    "plt.ylabel('Sample Quantiles', fontsize=12)\n",
    "\n",
    "# Show the plot\n",
    "plt.show()"
   ]
  },
  {
   "cell_type": "markdown",
   "metadata": {},
   "source": [
    "_How to interpret a Q-Q plot:_\n",
    "_Straight line: The data follows a normal distribution._\n",
    "_S-shaped curve: Indicates that the data may be skewed (left or right)._\n",
    "_Curved pattern: Indicates the data has heavy tails (leptokurtic) or lighter tails (platykurtic) than a normal distribution._ \n",
    "(Source: [Data Camp](https://www.datacamp.com/tutorial/qq-plot))"
   ]
  },
  {
   "cell_type": "markdown",
   "metadata": {},
   "source": [
    "##### **3.4 Assumption of Normal Distribution**: \n",
    "The variances in the two or more groups should be equal. This can be tested using Levene’s Test. (Source: [Wikipedia](https://en.wikipedia.org/wiki/Levene%27s_test), [DataLab](https://datatab.net/tutorial/levene-test))"
   ]
  },
  {
   "cell_type": "code",
   "execution_count": 37,
   "metadata": {},
   "outputs": [
    {
     "name": "stdout",
     "output_type": "stream",
     "text": [
      "\n",
      "Levene's Test for Equality of Variances:\n",
      "Stat: 1.119, P-value: 0.341\n"
     ]
    }
   ],
   "source": [
    "# Perform Levene's Test\n",
    "lvtest, lvpval = levene(ctrlw, trt1w, trt2w)\n",
    "\n",
    "print(\"\\nLevene's Test for Equality of Variances:\")\n",
    "print(f\"Stat: {lvtest:.3f}, P-value: {lvpval:.3f}\")"
   ]
  },
  {
   "cell_type": "markdown",
   "metadata": {},
   "source": [
    "_The Levene's test for equality of variances has a test statistic of 1.119. This indicates that the variances among the groups are not significantly different, satisfying the assumption of homogeneity of variances for performing a t-test._"
   ]
  },
  {
   "cell_type": "markdown",
   "metadata": {},
   "source": [
    "#### **Summary of Assumptions from the Plant Growth dataset**\n",
    "\n",
    "The Plant Growth dataset meets all the necessary assumptions for performing a t-test:\n",
    "\n",
    "1. Continuous data is present.\n",
    "\n",
    "2. Normal distribution is satisfied for all groups.\n",
    "\n",
    "3. Homogeneity of variances is satisfied."
   ]
  },
  {
   "cell_type": "markdown",
   "metadata": {},
   "source": [
    "### **4. Perform a t-test to determine whether there is a significant difference between the two treatment groups trt1 and trt2.**"
   ]
  },
  {
   "cell_type": "markdown",
   "metadata": {},
   "source": [
    "Based on the assumptions that the Plant Growth dataset meets the necessary conditions for performing a t-test (continuous data, normal distribution, and homogeneity of variances), we can now proceed with an independent two-sample t-test to determine if there is a significant difference between the two treatment groups trt1 and trt2.\n",
    "\n",
    "An **independent two-sample t-test** compares the means of the two groups and tests whether any observed difference is statistically significant.\n",
    "\n",
    "**T-test Formula:**\n",
    "\n",
    "As mentioned above, the formula for the independent two-sample t-test is:\n",
    "\n",
    "$$\n",
    "t = \\frac{\\bar{x_1} - \\bar{x_2}}{\\sqrt{\\frac{s_1^2}{n_1} + \\frac{s_2^2}{n_2}}}\n",
    "$$\n",
    "\n",
    "Where:\n",
    "- $\\bar{x_1}$ and $\\bar{x_2}$ are the sample means for groups 1 and 2.\n",
    "- $s_1^2$ and $s_2^2$ are the sample variances for groups 1 and 2.\n",
    "- $n_1$ and $n_2$ are the sample sizes for groups 1 and 2.\n",
    "\n",
    "**Decision Rule:**\n",
    "\n",
    "We set the significance level $\\alpha = 0.05$. The decision rule is as follows:\n",
    "- If **p-value** < $\\alpha$, reject the null hypothesis ($H_0$) and conclude that there is a significant difference between the two groups.\n",
    "- If **p-value** ≥ $\\alpha$, fail to reject the null hypothesis, and conclude that there is no significant difference between the two groups.\n",
    "\n",
    "**Interpretation of Results:**\n",
    "\n",
    "- **T-statistic**: The value indicating how much the sample means differ, standardized by the variability within each group.\n",
    "- **P-value**: The probability of obtaining a result at least as extreme as the observed result if the null hypothesis were true.\n",
    "\n",
    "If the p-value is less than the chosen significance level (e.g., 0.05), we reject the null hypothesis and conclude that there is a statistically significant difference between the means of the two treatment groups."
   ]
  },
  {
   "cell_type": "code",
   "execution_count": 38,
   "metadata": {},
   "outputs": [
    {
     "name": "stdout",
     "output_type": "stream",
     "text": [
      "T-statistic: -3.0100985421243616\n",
      "P-value: 0.0075184261182198574\n",
      "Null Hypothesis is rejected. There is evidence to conclude that trt1 and trt2 means are not equal.\n"
     ]
    }
   ],
   "source": [
    "# Perform an independent two-sample t-test assuming equal variances (pooled variance)\n",
    "t_statistic, p_value = stats.ttest_ind(trt1w, trt2w, equal_var=True)\n",
    "\n",
    "# Print the results\n",
    "print(f\"T-statistic: {t_statistic}\")\n",
    "print(f\"P-value: {p_value}\")\n",
    "\n",
    "# Interpret the result\n",
    "alpha = 0.05\n",
    "if p_value < alpha:\n",
    "    print(\"Null Hypothesis is rejected. There is evidence to conclude that trt1 and trt2 means are not equal.\")\n",
    "else:\n",
    "    print(\"Null Hypothesis cannot be rejected. We can continue to assume that trt1 and trt2 means are equal.\")\n"
   ]
  },
  {
   "cell_type": "markdown",
   "metadata": {},
   "source": [
    "### **5. Perform ANOVA to determine whether there is a significant difference between the three treatment groups ctrl, trt1, and trt2.**"
   ]
  },
  {
   "cell_type": "markdown",
   "metadata": {},
   "source": [
    "**ANOVA** (Analysis of Variance) is a statistical method used to compare the means of three or more groups to determine if there is a significant difference between them. Different types of ANOVA include One-Way ANOVA, Two-Way ANOVA, Factorial ANOVA, and Repeated Measures ANOVA. \n",
    "\n",
    "As described by Timpany (2016), **One-Way ANOVA** is applied when there is a single independent variable with three or more groups. In our case, we are comparing three groups: \"ctrl\" (control), \"trt1\" (treatment 1), and \"trt2\" (treatment 2). ((Source:)[https://www.statisticssolutions.com/free-resources/directory-of-statistical-analyses/anova/] )\n",
    "\n",
    "### Types of ANOVA\n",
    "- **One-Way ANOVA**: Compares means across three or more groups based on one independent variable.\n",
    "- **Two-Way ANOVA**: Considers the effect of two independent variables and their interaction.\n",
    "- **Factorial ANOVA**: Evaluates the influence of multiple independent variables with varying levels.\n",
    "- **Repeated Measures ANOVA**: Used when the same subjects are measured under different conditions or over time.\n",
    "\n",
    "((Source:)[https://www.statisticssolutions.com/the-various-forms-of-anova/])\n",
    "\n",
    "We will use `scipy.stats.f_oneway` to perform the ANOVA test.\n",
    "\n"
   ]
  },
  {
   "cell_type": "code",
   "execution_count": 39,
   "metadata": {},
   "outputs": [
    {
     "name": "stdout",
     "output_type": "stream",
     "text": [
      "One-Way ANOVA Results:\n",
      "F-Statistic: 4.846087862380136\n",
      "P-Value: 0.0159099583256229\n",
      "Reject the Null Hypothesis: Significant differences exist among the groups.\n"
     ]
    }
   ],
   "source": [
    "# Perform One-Way ANOVA\n",
    "f_statistic, p_value = stats.f_oneway(ctrlw, trt1w, trt2w)\n",
    "\n",
    "# Display the results\n",
    "print(\"One-Way ANOVA Results:\")\n",
    "print(f\"F-Statistic: {f_statistic}\")\n",
    "print(f\"P-Value: {p_value}\")\n",
    "\n",
    "# Interpret the results\n",
    "alpha = 0.05\n",
    "if p_value < alpha:\n",
    "    print(\"Reject the Null Hypothesis: Significant differences exist among the groups.\")\n",
    "else:\n",
    "    print(\"Fail to Reject the Null Hypothesis: No significant difference among the groups.\")\n"
   ]
  },
  {
   "cell_type": "markdown",
   "metadata": {},
   "source": [
    "### Understanding Alpha (α) in ANOVA\n",
    "\n",
    "In ANOVA, **alpha (α)** is the significance level that represents the probability of making a **Type I error**—rejecting a true null hypothesis. It is a threshold set before the analysis to evaluate the p-value.\n",
    "\n",
    "Commonly used values for α are:\n",
    "- **0.05**: 5% risk of Type I error (standard in most studies).\n",
    "- **0.01**: 1% risk (used for stricter testing).\n",
    "\n",
    "### Why α is Important:\n",
    "1. **Controls Type I Errors**: Limits the risk of falsely identifying differences among group means.\n",
    "2. **Balances Error Types**: Lower α reduces false positives but increases the risk of false negatives (Type II error).\n",
    "\n",
    "For example:\n",
    "- If **α = 0.05**, there is a 5% risk of concluding group means differ when they do not.\n",
    "\n",
    "((Source:)[https://www.statsdirect.com/help/basics/p_values.htm])\n"
   ]
  },
  {
   "cell_type": "markdown",
   "metadata": {},
   "source": [
    "### **6. Explain why it is more appropriate to apply ANOVA rather than several t-tests when analyzing more than two groups.**"
   ]
  },
  {
   "cell_type": "markdown",
   "metadata": {},
   "source": [
    "**Comparing t-Test and ANOVA**\n",
    "When comparing two groups, a **t-test** and **F-test** provide similar results. However, for more than two groups, **ANOVA** becomes a more practical method.  \n",
    "\n",
    "**Advantages of ANOVA:**\n",
    "- **Simplicity**: Provides a single-step test for comparing all group means.  \n",
    "- **Efficiency**: Eliminates the need for multiple pairwise comparisons, reducing confusion and mistakes.  \n",
    "- **Scalability**: Handles a large number of groups (\\(k\\)) without overwhelming calculations or interpretation errors.  \n",
    "\n",
    "#### Type I Error and ANOVA\n",
    "Each pairwise t-test carries a risk of **Type I error** (false positive). As the number of comparisons increases, this risk accumulates. For example:  \n",
    "- For \\(k=10\\), performing 45 t-tests at \\(\\alpha=0.05\\) leads to a high cumulative Type I error rate.  \n",
    "- ANOVA limits this risk to the pre-set \\(\\alpha\\), regardless of the number of groups.\n",
    "\n",
    "#### Bonferroni Correction\n",
    "When testing multiple hypotheses, the **Bonferroni correction** adjusts \\(\\alpha\\) by dividing it by the number of comparisons.  \n",
    "- Reduces Type I errors but increases **Type II errors** (false negatives).  \n",
    "- ANOVA mitigates this by maintaining balance between the error types.\n",
    "\n",
    "#### Variance Decomposition in ANOVA\n",
    "ANOVA separates variability into:  \n",
    "- **Within-Group Variance**: Random noise (Mean Square Within).  \n",
    "- **Between-Group Variance**: Differences in group means.  \n",
    "\n",
    "##### F-Statistic\n",
    "The F-statistic is the ratio of between-group variance to within-group variance. A larger ratio suggests significant differences between groups.  \n",
    "\n",
    "#### Statistical Power and Post Hoc Analysis\n",
    "- **Higher Statistical Power**: Pooled variance in ANOVA provides better precision and reduces the influence of outliers.\n",
    "- **Post Hoc Tests**: After a significant ANOVA result, post hoc tests like **Tukey's HSD** or **SNK** identify specific group differences.  \n",
    "\n",
    "#### Example Post Hoc Tests:\n",
    "- **Tukey's HSD**: Compares all pairwise group means while controlling family-wise error rates.  \n",
    "- **Student–Newman–Keuls (SNK)**: Stepwise pairwise comparisons, ordered by group means.\n",
    "\n",
    "(Source:)[https://pmc.ncbi.nlm.nih.gov/articles/PMC6813708/]"
   ]
  },
  {
   "cell_type": "code",
   "execution_count": 40,
   "metadata": {},
   "outputs": [
    {
     "name": "stdout",
     "output_type": "stream",
     "text": [
      "\n",
      "Tukey's HSD Results:\n",
      "Multiple Comparison of Means - Tukey HSD, FWER=0.05\n",
      "===================================================\n",
      "group1 group2 meandiff p-adj   lower  upper  reject\n",
      "---------------------------------------------------\n",
      "  ctrl   trt1   -0.371 0.3909 -1.0622 0.3202  False\n",
      "  ctrl   trt2    0.494  0.198 -0.1972 1.1852  False\n",
      "  trt1   trt2    0.865  0.012  0.1738 1.5562   True\n",
      "---------------------------------------------------\n"
     ]
    },
    {
     "data": {
      "image/png": "[encoded data removed]",
      "text/plain": [
       "<Figure size 1000x600 with 1 Axes>"
      ]
     },
     "metadata": {},
     "output_type": "display_data"
    }
   ],
   "source": [
    "#Turkey's HSD Test\n",
    "# Reference code: https://www.statology.org/tukey-test-python/\n",
    "# Documentation: https://docs.scipy.org/doc/scipy/reference/generated/scipy.stats.tukey_hsd.html\n",
    "weights = df['weight']\n",
    "groups = df['group']\n",
    "\n",
    "tukey = pairwise_tukeyhsd(endog=weights, groups=groups, alpha=0.05)\n",
    "print(\"\\nTukey's HSD Results:\")\n",
    "print(tukey)\n",
    "\n",
    "# Plot Tukey's HSD results\n",
    "tukey.plot_simultaneous()\n",
    "plt.show()"
   ]
  },
  {
   "cell_type": "markdown",
   "metadata": {},
   "source": [
    "**Interpretation of Tukey's HSD Plot:**\n",
    "   - `trt2` is significantly different from both `trt1` and `ctrl`.\n",
    "   - `trt1` and `ctrl` do not differ significantly.\n"
   ]
  },
  {
   "cell_type": "code",
   "execution_count": 41,
   "metadata": {},
   "outputs": [
    {
     "name": "stdout",
     "output_type": "stream",
     "text": [
      "\n",
      "Student-Newman-Keuls (SNK) Test Results:\n",
      "  Group 1 Group 2  Mean Diff  Critical Value  Significant\n",
      "0    trt1    trt2      0.865        0.572013         True\n",
      "1    trt1    ctrl      0.371        0.572013        False\n",
      "2    ctrl    trt2      0.494        0.572013        False\n"
     ]
    }
   ],
   "source": [
    "# Reference code: https://stackoverflow.com/questions/773/how-do-i-use-itertools-groupby , https://stackoverflow.com/questions/32728899/python-itertools-groupby-for-unique-key-value-pairs , https://docs.python.org/3/library/itertools.html\n",
    "import numpy as np\n",
    "import pandas as pd\n",
    "import scipy.stats as stats\n",
    "\n",
    "# Define the SNK test function\n",
    "def snk_test(data, group_col, value_col, alpha=0.05):\n",
    "    # Group the data and compute means and sample sizes\n",
    "    groups = data.groupby(group_col)\n",
    "    group_means = groups[value_col].mean()\n",
    "    group_sizes = groups[value_col].size()\n",
    "    \n",
    "    # Sort groups by their means\n",
    "    group_means = group_means.sort_values()\n",
    "    group_order = group_means.index\n",
    "    group_sizes = group_sizes[group_order]\n",
    "    \n",
    "    # ANOVA calculations for Mean Squared Error (MSE)\n",
    "    group_variances = groups[value_col].var()\n",
    "    mse = sum((group_sizes - 1) * group_variances) / (len(data) - len(group_means))\n",
    "    n_groups = len(group_means)\n",
    "    \n",
    "    # Prepare the results DataFrame\n",
    "    results = []\n",
    "\n",
    "    # Pairwise comparisons in stepwise fashion\n",
    "    for step in range(n_groups, 1, -1):\n",
    "        # Get all pairs of groups for this step\n",
    "        for i in range(n_groups - step + 1):\n",
    "            start_group = group_order[i]\n",
    "            end_group = group_order[i + step - 1]\n",
    "            \n",
    "            # Compute the mean difference and critical value\n",
    "            mean_diff = abs(group_means[end_group] - group_means[start_group])\n",
    "            critical_value = stats.t.ppf(1 - alpha / 2, df=(len(data) - n_groups)) \\\n",
    "                * np.sqrt(mse * (1 / group_sizes[start_group] + 1 / group_sizes[end_group]))\n",
    "            \n",
    "            # Add the comparison result\n",
    "            results.append({\n",
    "                \"Group 1\": start_group,\n",
    "                \"Group 2\": end_group,\n",
    "                \"Mean Diff\": mean_diff,\n",
    "                \"Critical Value\": critical_value,\n",
    "                \"Significant\": mean_diff > critical_value\n",
    "            })\n",
    "    \n",
    "    # Convert results to a DataFrame\n",
    "    results_df = pd.DataFrame(results)\n",
    "    return results_df\n",
    "\n",
    "# Perform SNK test\n",
    "snk_results = snk_test(df, group_col=\"group\", value_col=\"weight\", alpha=0.05)\n",
    "\n",
    "# Print results\n",
    "print(\"\\nStudent-Newman-Keuls (SNK) Test Results:\")\n",
    "print(snk_results)\n"
   ]
  },
  {
   "cell_type": "markdown",
   "metadata": {},
   "source": [
    "The **Student-Newman-Keuls (SNK)** test results indicate that there is a **statistically significant difference** between **trt1** and **trt2** (mean difference = 0.865, p < 0.05), while there is **no significant difference** between **trt1** and **ctrl** (mean difference = 0.371, p > 0.05) and between **ctrl** and **trt2** (mean difference = 0.494, p > 0.05). This suggests that while **trt1** and **trt2** differ significantly, both treatments do not differ significantly from the control group.\n"
   ]
  },
  {
   "cell_type": "markdown",
   "metadata": {},
   "source": [
    "## Conclusion\n",
    "\n",
    "In this notebook, we analyzed the `PlantGrowth` dataset, exploring the differences in weights across control and treatment groups. The data visualization through box plots, histograms, and Q-Q plots revealed symmetrical distributions and no evidence against normality, as confirmed by the Shapiro-Wilk test. Levene's test validated equal variances among the groups.\n",
    "\n",
    "### Key Statistical Results:\n",
    "\n",
    "1. **One-Way ANOVA:**  \n",
    "   - F-Statistic: 4.846  \n",
    "   - P-Value: 0.0159  \n",
    "   - **Conclusion:** Significant mean differences exist among `ctrl`, `trt1`, and `trt2`.\n",
    "\n",
    "2. **Tukey's HSD Test:**  \n",
    "   - `trt2` differs significantly from both `trt1` and `ctrl`.  \n",
    "   - No significant difference was found between `trt1` and `ctrl`.\n",
    "\n",
    "3. **Student-Newman-Keuls Test (SNK):**  \n",
    "   - `trt1` and `trt2` showed a statistically significant mean difference.  \n",
    "   - No significant difference was observed between `trt1` and `ctrl`, as well as between `ctrl` and `trt2`.\n",
    "\n",
    "### Insights:\n",
    "- The treatment effects suggest potential differences in intervention outcomes, particularly between `trt1` and `trt2`, while the control group is more similar to `trt1`.  \n",
    "- ANOVA was a robust and efficient method for identifying mean differences across multiple groups, avoiding the inflated error rates associated with repeated t-tests.\n",
    "\n",
    "In summary, this analysis underscores the importance of visualizations, proper statistical tests, and critical interpretation in making data-driven decisions."
   ]
  },
  {
   "cell_type": "markdown",
   "metadata": {},
   "source": [
    "### Bibliography\n",
    "\n",
    "1. \"T-Tests Overview.\" *Statistics How To.* Available at [https://www.statisticshowto.com/probability-and-statistics/t-test/](https://www.statisticshowto.com/probability-and-statistics/t-test/)\n",
    "\n",
    "2. \"T-Distribution and T-Test.\" *Investopedia.* Available at [https://www.investopedia.com/terms/t/t-distribution.asp](https://www.investopedia.com/terms/t/t-distribution.asp)\n",
    "\n",
    "3. \"t-test: scipy.stats.ttest_ind.\" *SciPy Documentation.* Retrieved from [https://docs.scipy.org/doc/scipy/reference/generated/scipy.stats.ttest_ind.html](https://docs.scipy.org/doc/scipy/reference/generated/scipy.stats.ttest_ind.html)\n",
    "\n",
    "4. \"Assumptions of a t-test.\" *Simply Psychology.* Available at [https://www.simplypsychology.org/t-test.html](https://www.simplypsychology.org/t-test.html)\n",
    "\n",
    "5. VanderPlas, J. (2016). *Python Data Science Handbook.* O'Reilly Media. Available at [https://jakevdp.github.io/PythonDataScienceHandbook/](https://jakevdp.github.io/PythonDataScienceHandbook/)\n",
    "\n",
    "6. Thevapalan, S. (2024). \"T-Test Explained.\" *The Research Journal.*\n",
    "\n",
    "7. \"Hypothesis Testing.\" *Wikipedia.* Available at [https://en.wikipedia.org/wiki/Statistical_hypothesis_test](https://en.wikipedia.org/wiki/Statistical_hypothesis_test)\n",
    "\n",
    "8. \"T-test Tutorial.\" *GraphPad Software.* Retrieved from [https://www.graphpad.com/quickcalcs/](https://www.graphpad.com/quickcalcs/)\n",
    "\n",
    "9. \"Independent Two-Sample T-test Discussion.\" *Quora.* Available at [https://www.quora.com/What-distinguishes-between-the-single-sample-t-test-and-the-independent-samplest-test-in-terms-of-the-comparison-distribution](https://www.quora.com/What-distinguishes-between-the-single-sample-t-test-and-the-independent-samplest-test-in-terms-of-the-comparison-distribution)\n",
    "\n",
    "10. \"How to Perform a Shapiro-Wilk Test in Python.\" *GeeksforGeeks.* Available at [https://www.geeksforgeeks.org/how-to-perform-a-shapiro-wilk-test-in-python/](https://www.geeksforgeeks.org/how-to-perform-a-shapiro-wilk-test-in-python/)\n",
    "\n",
    "11. \"Shapiro Test Documentation.\" *SciPy Documentation.* Available at [https://docs.scipy.org/doc/scipy/reference/generated/scipy.stats.shapiro.html](https://docs.scipy.org/doc/scipy/reference/generated/scipy.stats.shapiro.html)\n",
    "\n",
    "12. \"Normal QQ Plot and General QQ Plot.\" *ArcGIS Desktop.* Retrieved from [https://desktop.arcgis.com/en/arcmap/latest/extensions/geostatistical-analyst/normal-qq-plot-and-general-qq-plot.htm#:~:text=QQ%20plot%20example-,Examining%20data%20distributions%20using%20QQ%20plots,deviate%20from%20the%20reference%20line](https://desktop.arcgis.com/en/arcmap/latest/extensions/geostatistical-analyst/normal-qq-plot-and-general-qq-plot.htm#:~:text=QQ%20plot%20example-,Examining%20data%20distributions%20using%20QQ%20plots,deviate%20from%20the%20reference%20line)\n",
    "\n",
    "13. \"QQ Plot.\" *DataCamp.* Available at [https://www.datacamp.com/tutorial/qq-plot](https://www.datacamp.com/tutorial/qq-plot)\n",
    "\n",
    "14. \"Pooled Variance.\" *Wikipedia.* Available at [https://en.wikipedia.org/wiki/Pooled_variance](https://en.wikipedia.org/wiki/Pooled_variance)\n",
    "\n",
    "15. \"ANOVA.\" *Danstich.* Available at [https://danstich.github.io/worst-r/7.1-anova.html](https://danstich.github.io/worst-r/7.1-anova.html)\n",
    "\n",
    "16. \"ANOVA Definition.\" *Statistics Solutions.* Available at [https://www.statisticssolutions.com/free-resources/directory-of-statistical-analyses/anova/](https://www.statisticssolutions.com/free-resources/directory-of-statistical-analyses/anova/)\n",
    "\n",
    "17. \"ANOVA vs. T-Test: A Comparison.\" *Voxco.* Available at [https://www.voxco.com/blog/anova-vs-t-test-with-a-comparison-chart/#:~:text=The%20t%2Dtest%20is%20conducted,go%20for%20the%20ANOVA%20test](https://www.voxco.com/blog/anova-vs-t-test-with-a-comparison-chart/#:~:text=The%20t%2Dtest%20is%20conducted,go%20for%20the%20ANOVA%20test)\n",
    "\n",
    "18. \"ANOVA vs. T-tests.\" *Laerd Statistics.* Available at [https://statistics.laerd.com/statistical-guides/one-way-anova-statistical-guide-2.php](https://statistics.laerd.com/statistical-guides/one-way-anova-statistical-guide-2.php)\n",
    "\n",
    "19. \"Newman–Keuls Method.\" *Wikipedia.* Retrieved from [https://en.wikipedia.org/wiki/Newman%E2%80%93Keuls_method](https://en.wikipedia.org/wiki/Newman%E2%80%93Keuls_method)\n",
    "\n",
    "20. \"Tukey Test.\" *Wikipedia.* Retrieved from [https://en.wikipedia.org/wiki/Tukey%27s_range_test#:~:text=Tukey's%20test%20compares%20the%20means,than%20the%20expected%20standard%20error](https://en.wikipedia.org/wiki/Tukey%27s_range_test#:~:text=Tukey's%20test%20compares%20the%20means,than%20the%20expected%20standard%20error)\n",
    "\n",
    "21. \"Tukey's HSD Test Documentation.\" *SciPy Documentation.* Retrieved from [https://docs.scipy.org/doc/scipy/reference/generated/scipy.stats.tukey_hsd.html](https://docs.scipy.org/doc/scipy/reference/generated/scipy.stats.tukey_hsd.html)\n"
   ]
  }
 ],
 "metadata": {
  "kernelspec": {
   "display_name": "Python 3",
   "language": "python",
   "name": "python3"
  },
  "language_info": {
   "codemirror_mode": {
    "name": "ipython",
    "version": 3
   },
   "file_extension": ".py",
   "mimetype": "text/x-python",
   "name": "python",
   "nbconvert_exporter": "python",
   "pygments_lexer": "ipython3",
   "version": "3.12.4"
  }
 },
 "nbformat": 4,
 "nbformat_minor": 2
}

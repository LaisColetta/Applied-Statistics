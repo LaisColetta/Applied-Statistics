{
 "cells": [
  {
   "cell_type": "markdown",
   "metadata": {},
   "source": [
    "## Project Applied Statistics - Winter 2024 (40%)\n",
    "Lecturer: Ian McLoughlin  \n",
    "Author: Lais Coletta Pereira  \n",
    "\n",
    "Project ask: Your task is to perform t-tests and ANOVA on this dataset while describing the dataset and explaining your work. In doing this you should:\n",
    "\n",
    "**1. Download and save the dataset to your repository.**\n",
    "\n",
    "**2. Describe the data set in your notebook.**\n",
    "\n",
    "**3. Describe what a t-test is, how it works, and what the assumptions are.**\n",
    "\n",
    "**4. Perform a t-test to determine whether there is a significant difference between the two treatment groups trt1 and trt2.**\n",
    "\n",
    "**5. Perform ANOVA to determine whether there is a significant difference between the three treatment groups ctrl, trt1, and trt2.**\n",
    "\n",
    "**6. Explain why it is more appropriate to apply ANOVA rather than several t-tests when analyzing more than two groups.**\n"
   ]
  },
  {
   "cell_type": "markdown",
   "metadata": {},
   "source": [
    "### Project Plan\n",
    "Download and Save the Dataset:\n",
    "Obtain and store the dataset in the repository.\n",
    "\n",
    "Describe the Dataset:\n",
    "Load the dataset, summarize its structure, and describe the variables (e.g., treatment groups).\n",
    "Explain the t-test:\n",
    "\n",
    "Define the t-test, its types (independent, paired, one-sample), assumptions (normality, independence, homogeneity of variance), and formula.\n",
    "Perform t-test:\n",
    "\n",
    "Apply an independent t-test to compare treatment groups (trt1 vs. trt2).\n",
    "Report the t-statistic and p-value.\n",
    "Perform ANOVA:\n",
    "\n",
    "Apply ANOVA to compare all three groups (ctrl, trt1, trt2).\n",
    "Report the F-statistic and p-value.\n",
    "\n",
    "Justify Using ANOVA:\n",
    "Explain why ANOVA is more appropriate than multiple t-tests for comparing more than two groups.\n"
   ]
  },
  {
   "cell_type": "markdown",
   "metadata": {},
   "source": [
    "Import necessary libraries"
   ]
  },
  {
   "cell_type": "code",
   "execution_count": 50,
   "metadata": {},
   "outputs": [],
   "source": [
    "# Import libraries\n",
    "import pandas as pd\n",
    "import seaborn as sns\n",
    "import matplotlib.pyplot as plt\n",
    "import numpy as np\n",
    "import scipy.stats as stats\n",
    "import matplotlib.pyplot as plt\n",
    "\n"
   ]
  },
  {
   "cell_type": "markdown",
   "metadata": {},
   "source": [
    "### **_1. Download and Load the Dataset_**"
   ]
  },
  {
   "cell_type": "code",
   "execution_count": 51,
   "metadata": {},
   "outputs": [],
   "source": [
    "# URL of the dataset\n",
    "url = \"https://vincentarelbundock.github.io/Rdatasets/csv/datasets/PlantGrowth.csv\"\n",
    "\n",
    "# Load the dataset from the URL\n",
    "df = pd.read_csv(url)\n",
    "\n",
    "# Define the path to save the dataset\n",
    "path = \"/Users/laiscoletta/Desktop/DA_Final_Semester/Applied-Statistics/plantgrowth.csv\"\n",
    "\n",
    "# Save the dataset as plantgrowth.csv in the 'Applied-Statistics' folder\n",
    "df.to_csv(path, index=False)"
   ]
  },
  {
   "cell_type": "markdown",
   "metadata": {},
   "source": [
    "### **_2. Describe the data set in your notebook:_**"
   ]
  },
  {
   "cell_type": "code",
   "execution_count": 52,
   "metadata": {},
   "outputs": [
    {
     "name": "stdout",
     "output_type": "stream",
     "text": [
      "        rownames     weight\n",
      "count  30.000000  30.000000\n",
      "mean   15.500000   5.073000\n",
      "std     8.803408   0.701192\n",
      "min     1.000000   3.590000\n",
      "25%     8.250000   4.550000\n",
      "50%    15.500000   5.155000\n",
      "75%    22.750000   5.530000\n",
      "max    30.000000   6.310000\n"
     ]
    }
   ],
   "source": [
    "print(df.describe())"
   ]
  },
  {
   "cell_type": "markdown",
   "metadata": {},
   "source": [
    "**Observations:** \n",
    "1. The weight variable shows moderate variability (std = 0.701), with weights ranging from 3.59 to 6.31 grams.\n",
    "2. The median weight (5.155) is close to the mean (5.073), indicating a symmetric distribution."
   ]
  },
  {
   "cell_type": "code",
   "execution_count": 53,
   "metadata": {},
   "outputs": [
    {
     "name": "stdout",
     "output_type": "stream",
     "text": [
      "\n",
      "Dataset Information:\n",
      "<class 'pandas.core.frame.DataFrame'>\n",
      "RangeIndex: 30 entries, 0 to 29\n",
      "Data columns (total 3 columns):\n",
      " #   Column    Non-Null Count  Dtype  \n",
      "---  ------    --------------  -----  \n",
      " 0   rownames  30 non-null     int64  \n",
      " 1   weight    30 non-null     float64\n",
      " 2   group     30 non-null     object \n",
      "dtypes: float64(1), int64(1), object(1)\n",
      "memory usage: 852.0+ bytes\n",
      "\n",
      "Missing Values in Dataset:\n",
      "No missing values detected. \n",
      "\n",
      "\n",
      "Frequency Distribution for 'group' (Categorical Variable):\n",
      "group\n",
      "ctrl    10\n",
      "trt1    10\n",
      "trt2    10\n",
      "Name: count, dtype: int64 \n",
      "\n"
     ]
    }
   ],
   "source": [
    "# Dataset overview\n",
    "print(\"\\nDataset Information:\")\n",
    "df.info()  \n",
    "\n",
    "# Check for missing values and report if any\n",
    "missing_values = df.isnull().sum()\n",
    "print(\"\\nMissing Values in Dataset:\")\n",
    "print(missing_values if missing_values.any() else \"No missing values detected.\", \"\\n\")\n",
    "\n",
    "# Summary for categorical variables\n",
    "print(\"\\nFrequency Distribution for 'group' (Categorical Variable):\")\n",
    "print(df['group'].value_counts(), \"\\n\")"
   ]
  },
  {
   "cell_type": "code",
   "execution_count": 54,
   "metadata": {},
   "outputs": [
    {
     "name": "stdout",
     "output_type": "stream",
     "text": [
      "\n",
      "Dataset Description:\n",
      "\n",
      "The PlantGrowth dataset consists of 30 observations and 3 columns:\n",
      "1. 'weight': A numerical variable representing the weight of plants.\n",
      "   - Range: 3.59 to 6.31 grams\n",
      "   - Mean: 5.073 grams\n",
      "   - Standard Deviation: 0.701 grams\n",
      "2. 'group': A categorical variable with three treatment groups:\n",
      "   - Control group ('ctrl'): 10 observations\n",
      "   - Treatment 1 ('trt1'): 10 observations\n",
      "   - Treatment 2 ('trt2'): 10 observations\n",
      "\n"
     ]
    }
   ],
   "source": [
    "# Dataset Description\n",
    "print(\"\\nDataset Description:\")\n",
    "print(f\"\"\"\n",
    "The PlantGrowth dataset consists of {len(df)} observations and {df.shape[1]} columns:\n",
    "1. 'weight': A numerical variable representing the weight of plants.\n",
    "   - Range: {df['weight'].min()} to {df['weight'].max()} grams\n",
    "   - Mean: {df['weight'].mean():.3f} grams\n",
    "   - Standard Deviation: {df['weight'].std():.3f} grams\n",
    "2. 'group': A categorical variable with three treatment groups:\n",
    "   - Control group ('ctrl'): {df['group'].value_counts()['ctrl']} observations\n",
    "   - Treatment 1 ('trt1'): {df['group'].value_counts()['trt1']} observations\n",
    "   - Treatment 2 ('trt2'): {df['group'].value_counts()['trt2']} observations\n",
    "\"\"\")"
   ]
  },
  {
   "cell_type": "markdown",
   "metadata": {},
   "source": [
    "### **_3. Describe what a t-test is, how it works, and what the assumptions are._**"
   ]
  },
  {
   "cell_type": "markdown",
   "metadata": {},
   "source": [
    "#### What a T-test is\n",
    "\n",
    "A **Student's t-test** is a statistical method used to determine if there is a significant difference between the means of two groups. This test is particularly useful when the sample size is small (typically less than 30) and assumes the data follows a normal distribution. It is often employed in hypothesis testing, where the test statistic follows a t-distribution. This distribution is similar to a normal distribution but has wider tails to account for the increased variability found in small samples [Source Wikipedia](https://en.wikipedia.org/wiki/Student%27s_t-test).\n",
    "\n",
    "**Types of T-Tests:**\n",
    "- **One-sample t-test**: This compares the mean of a single sample to a known or hypothesized population mean. It checks whether the sample mean is significantly different from the reference value.\n",
    "- **Independent (Unpaired) two-sample t-test**: This compares the means of two independent, uncorrelated groups to see if there is a significant difference.\n",
    "- **Paired (Dependent) two-sample t-test**: This compares the means of two related groups, such as the same group before and after an intervention, to evaluate if the changes are statistically significant.\n",
    "\n",
    "#### The formulas for the different types of t-test are as follows: \n",
    "\n",
    "**One-Sample T-test Formula**\n",
    "\n",
    "The formula for the one-sample t-test is:\n",
    "\n",
    "\\[\n",
    "t = \\frac{\\bar{x} - \\mu_0}{\\frac{s}{\\sqrt{n}}}\n",
    "\\]\n",
    "\n",
    "Where:\n",
    "- \\(\\bar{x}\\) is the sample mean,\n",
    "- \\(\\mu_0\\) is the hypothesized population mean,\n",
    "- \\(s\\) is the sample standard deviation,\n",
    "- \\(n\\) is the sample size.\n",
    "\n",
    "**Independent (Unpaired) Two-Sample T-test Formula**\n",
    "\n",
    "For independent samples, the formula is:\n",
    "\n",
    "\\[\n",
    "t = \\frac{\\bar{x_1} - \\bar{x_2}}{\\sqrt{\\frac{s_1^2}{n_1} + \\frac{s_2^2}{n_2}}}\n",
    "\\]\n",
    "\n",
    "Where:\n",
    "- \\(\\bar{x_1}\\) and \\(\\bar{x_2}\\) are the sample means for groups 1 and 2,\n",
    "- \\(s_1^2\\) and \\(s_2^2\\) are the sample variances,\n",
    "- \\(n_1\\) and \\(n_2\\) are the sample sizes for each group.\n",
    "\n",
    "If the sample sizes are equal, a pooled variance estimate is used:\n",
    "\n",
    "\\[\n",
    "t = \\frac{\\bar{x_1} - \\bar{x_2}}{\\sqrt{\\frac{(n_1-1)s_1^2 + (n_2-1)s_2^2}{n_1 + n_2 - 2} \\left( \\frac{1}{n_1} + \\frac{1}{n_2} \\right)}}\n",
    "\\]\n",
    "\n",
    "**Paired Two-Sample T-test Formula**\n",
    "\n",
    "For paired data, the formula is:\n",
    "\n",
    "\\[\n",
    "t = \\frac{\\bar{d}}{\\frac{s_d}{\\sqrt{n}}}\n",
    "\\]\n",
    "\n",
    "Where:\n",
    "- \\(\\bar{d}\\) is the mean difference between paired observations,\n",
    "- \\(s_d\\) is the standard deviation of the differences,\n",
    "- \\(n\\) is the number of pairs.\n",
    "\n",
    "#### How does a T-test work?\n",
    "\n",
    "A T-test works by comparing the means of two groups (or a sample mean and a population mean) to see if the differences between them are statistically significant. To get to this conclusion, we must formulate hypotheses:\n",
    "\n",
    "- **Null Hypothesis**: This assumes that the means of the two groups are equal (\\(H_0: \\mu_1 = \\mu_2\\)).\n",
    "- **Alternative Hypothesis (H₁)**: This assumes that the means are different (\\(H_A: \\mu_1 \\neq \\mu_2\\)).\n",
    "\n",
    "The **significance level (\\(\\alpha\\))** is predetermined, typically set at 0.05. This level helps in deciding whether to reject the null hypothesis or not, based on the p-value obtained from the t-test.\n",
    "\n",
    "**One-Tailed vs Two-Tailed T-Test**\n",
    "\n",
    "The t-test can be either one-tailed or two-tailed:\n",
    "- A **one-tailed test** is used if there is a specific direction in the hypothesis (e.g., \"greater than\" or \"less than\").\n",
    "- A **two-tailed test** is used if the hypothesis only asks whether there is a difference, without specifying the direction.\n",
    "\n",
    "**Making a Decision**\n",
    "\n",
    "After calculating the t-statistic and the p-value, the decision is made whether to reject the null hypothesis:\n",
    "- If \\( p \\leq \\alpha \\), reject the null hypothesis and conclude that there is a significant difference between the groups.\n",
    "- If \\( p > \\alpha \\), fail to reject the null hypothesis, indicating no significant difference.\n",
    "\n",
    "#### Assumptions of a T-test\n",
    "\n",
    "Before performing a t-test, several assumptions must be met:\n",
    "1. **Continuous Data**: The data should be continuous, allowing for accurate mean and standard deviation calculations.\n",
    "2. **Random Sampling**: Data should be gathered randomly (one-sample t-test) or from independent (for two-sample tests) or paired (for dependent tests) groups.\n",
    "3. **Normal Distribution**: The data for each group should be normally distributed.\n",
    "4. **Homogeneity of Variances**: Variances in both groups should be similar.\n",
    "\n",
    "**Continuous Data**\n",
    "\n",
    "Continuous data represents values that can take any number within a certain range. This type of data is essential for the t-test because the mean and standard deviation need to be computed precisely. Continuous data should follow a normal distribution, which can be tested using histograms, box plots, or Q-Q plots."
   ]
  },
  {
   "cell_type": "code",
   "execution_count": 55,
   "metadata": {},
   "outputs": [
    {
     "data": {
      "image/png": "[encoded data removed]",
      "text/plain": [
       "<Figure size 1500x500 with 3 Axes>"
      ]
     },
     "metadata": {},
     "output_type": "display_data"
    }
   ],
   "source": [
    "#Histogram:\n",
    "# Group data by treatment type and store in separate variables\n",
    "df_grouped = df.groupby('group')['weight'].apply(list)\n",
    "\n",
    "# Create histograms for each treatment group with the same color\n",
    "fig, axes = plt.subplots(1, 3, figsize=(15, 5))\n",
    "\n",
    "for i, group in enumerate(['ctrl', 'trt1', 'trt2']):\n",
    "    sns.histplot(df_grouped[group], bins=5, color='skyblue', ax=axes[i])\n",
    "    axes[i].set_title(f'Histogram of {group.capitalize()}')\n",
    "\n",
    "plt.tight_layout()\n",
    "plt.show()\n"
   ]
  },
  {
   "cell_type": "code",
   "execution_count": 56,
   "metadata": {},
   "outputs": [
    {
     "data": {
      "image/png": "[encoded data removed]",
      "text/plain": [
       "<Figure size 800x600 with 1 Axes>"
      ]
     },
     "metadata": {},
     "output_type": "display_data"
    }
   ],
   "source": [
    "# Boxplot of treatment groups\n",
    "df.boxplot(column='weight', by='group', figsize=(8, 6), grid = False)\n",
    "\n",
    "# Add labels and title\n",
    "plt.xlabel('Treatment Group')\n",
    "plt.ylabel('Weight')\n",
    "plt.suptitle('Boxplot of Weight by Treatment Group')  # Title for the entire plot\n",
    "plt.tight_layout()  # Adjust layout\n",
    "\n",
    "# Show the plot\n",
    "plt.show()"
   ]
  },
  {
   "cell_type": "markdown",
   "metadata": {},
   "source": []
  },
  {
   "cell_type": "markdown",
   "metadata": {},
   "source": [
    "### **4. Perform a t-test to determine whether there is a significant difference between the two treatment groups trt1 and trt2.**"
   ]
  },
  {
   "cell_type": "code",
   "execution_count": 57,
   "metadata": {},
   "outputs": [
    {
     "name": "stdout",
     "output_type": "stream",
     "text": [
      "T-statistic: 1.1912603818487009\n",
      "P-value: 0.2490231659730067\n",
      "There is no significant difference between the control group and Treatment 1 group.\n"
     ]
    }
   ],
   "source": [
    "import pandas as pd\n",
    "from scipy import stats\n",
    "\n",
    "# Load the PlantGrowth dataset\n",
    "df = pd.read_csv('PlantGrowth.csv')\n",
    "\n",
    "# Separate the data into two groups: 'ctrl' (control) and 'trt1' (Treatment 1)\n",
    "group_ctrl = df[df['group'] == 'ctrl']['weight']\n",
    "group_trt1 = df[df['group'] == 'trt1']['weight']\n",
    "\n",
    "# Perform an independent t-test\n",
    "t_statistic, p_value = stats.ttest_ind(group_ctrl, group_trt1)\n",
    "\n",
    "# Print the results\n",
    "print(f\"T-statistic: {t_statistic}\")\n",
    "print(f\"P-value: {p_value}\")\n",
    "\n",
    "# Interpret the result\n",
    "if p_value < 0.05:\n",
    "    print(\"There is a significant difference between the control group and Treatment 1 group.\")\n",
    "else:\n",
    "    print(\"There is no significant difference between the control group and Treatment 1 group.\")"
   ]
  },
  {
   "cell_type": "markdown",
   "metadata": {},
   "source": []
  },
  {
   "cell_type": "markdown",
   "metadata": {},
   "source": [
    "Marking Scheme\n",
    "Each component will be graded based on the following four categories. Each category carries equal weight.\n",
    "\n",
    "Remember, your repository is what will be evaluated. It should demonstrate evidence of the criteria outlined for each category. That said, the examiners' overall impression of the submission may affect marks in each category.\n",
    "\n",
    "You are expected to make steady progress on the assessment throughout the semester. This should be reflected in your commit history. Huge commits, especially late in the semester, will not be accepted. At any stage you may be asked to discuss the work to date in your repository.\n",
    "\n",
    "If you encounter issues with your repository, seek help well before the deadline. Do not delete any files or commits without first consulting the lecturer.\n",
    "\n",
    "Research\n",
    "Evidence of research on relevant topics.\n",
    "Appropriate referencing.\n",
    "Building upon the literature and documentation.\n",
    "Comparisons to similar work.\n",
    "Development\n",
    "Clear, concise, and correct code.\n",
    "Appropriate tests.\n",
    "Knowledge of different approaches and algorithms.\n",
    "Clean architecture.\n",
    "Documentation\n",
    "Clear explanations of concepts.\n",
    "Concise comments in code and elsewhere.\n",
    "Appropriate README for repository.\n",
    "Consistency\n",
    "Tens of commits, each representing a reasonable amount of work.\n",
    "Literature, documentation, and code evidencing work on the assessment.\n",
    "Evidence of reviewing and refactoring.\n",
    "Advice\n",
    "The freedom provided in open-style assessments such as this one can feel challenging. You need to decide how to start, what content to include, how much to cover, and how to make the work your own.\n",
    "\n",
    "The assessment is designed to provide you with opportunities for independent thinking and decision-making. Employers value graduates who can take initiative, work independently, and make design decisions with minimal guidance. We expect you to have basic programming knowledge and be able to find information on your own.\n",
    "\n",
    "You should have a clear plan before you start coding. Your submission should include both your plan and an explanation of any design choices you made.\n",
    "\n",
    "Make sure to follow ATU's policies and regulations which are on the Student Hub. Pay particular attention to any policies on plagiarism and the Student Code. If you're unsure about anything, ask the lecturer.\n",
    "\n",
    "1. Download and Load the Dataset\n",
    "\n",
    "2. Describe the Dataset\n",
    "\n",
    "3. What is a t-test?\n",
    "A t-test is a statistical test used to determine whether there is a significant difference between the means of two groups. There are two main types of t-tests:\n",
    "\n",
    "Independent samples t-test: Compares means of two independent groups.\n",
    "Paired samples t-test: Compares means from the same group at two different times.\n",
    "How It Works\n",
    "Computes the t-statistic, which measures the difference between group means relative to the variation in the data.\n",
    "Compares the t-statistic to a critical value from the t-distribution to decide whether the difference is statistically significant.\n",
    "Assumptions\n",
    "The data is continuous.\n",
    "The data follows a normal distribution (or the sample size is large enough for the Central Limit Theorem to apply).\n",
    "The two groups have approximately equal variances.\n",
    "Observations are independent.\n",
    "4. Performing t-test on trt1 and trt2\n",
    "We will check if there is a significant difference in plant weights between trt1 and trt2.\n",
    "\n",
    "5. What is ANOVA?\n",
    "Analysis of Variance (ANOVA) is used to determine whether there are statistically significant differences between the means of three or more groups.\n",
    "\n",
    "How It Works\n",
    "Partition total variation in the data into \"between-group\" and \"within-group\" variances.\n",
    "Calculates the F-statistic, which is the ratio of between-group variance to within-group variance.\n",
    "Compares the F-statistic to a critical value from the F-distribution.\n",
    "Assumptions\n",
    "The data follows a normal distribution.\n",
    "Homogeneity of variances across groups.\n",
    "Observations are independent.\n",
    "6. Why Use ANOVA Instead of Multiple t-tests?\n",
    "Increased Error Rate: Conducting multiple t-tests increases the likelihood of Type I errors (false positives) because each test has its own significance threshold.\n",
    "Holistic Approach: ANOVA considers all group comparisons simultaneously, providing a single test statistic.\n",
    "Efficiency: ANOVA is computationally more efficient and interprets overall group differences in one step.\n",
    "7. Performing ANOVA\n",
    "We will determine if there is a significant difference in plant weights between the three groups: ctrl, trt1, and trt2."
   ]
  },
  {
   "cell_type": "markdown",
   "metadata": {},
   "source": [
    "**References**\n",
    "T-Tests Overview:\n",
    "\"T-Tests Overview\" from Statistics How To: https://www.statisticshowto.com/probability-and-statistics/t-test/\n",
    "\n",
    "Understanding the t-distribution:\n",
    "\"T-Distribution and T-Test\" from Investopedia: https://www.investopedia.com/terms/t/t-distribution.asp\n",
    "\n",
    "SciPy Documentation on T-Test:\n",
    "SciPy Documentation (n.d.). t-test: scipy.stats.ttest_ind: https://docs.scipy.org/doc/scipy/reference/generated/scipy.stats.ttest_ind.html\n",
    "\n",
    "The Assumptions of the t-test:\n",
    "\"Assumptions of a t-test\" from Simply Psychology: https://www.simplypsychology.org/t-test.html\n",
    "\n",
    "Python for Data Science:\n",
    "\"Python Data Science Handbook\" by Jake VanderPlas (O'Reilly): https://jakevdp.github.io/PythonDataScienceHandbook/\n",
    "\n",
    "Thevapalan, S. (2024). \"T-Test Explained.\" The Research Journal.\n",
    "Wikipedia \"Hypothesis Testing.\" https://en.wikipedia.org/wiki/Statistical_hypothesis_test\n",
    "GraphPad Software. (n.d.). \"T-test Tutorial.\" Link\n",
    "Independent Two-Sample T-test Quora Discussion (https://www.quora.com/What-distinguishes-between-the-single-sample-t-test-and-the-independent-samplest-test-in-terms-of-the-comparison-distribution)"
   ]
  }
 ],
 "metadata": {
  "kernelspec": {
   "display_name": "Python 3",
   "language": "python",
   "name": "python3"
  },
  "language_info": {
   "codemirror_mode": {
    "name": "ipython",
    "version": 3
   },
   "file_extension": ".py",
   "mimetype": "text/x-python",
   "name": "python",
   "nbconvert_exporter": "python",
   "pygments_lexer": "ipython3",
   "version": "3.12.4"
  }
 },
 "nbformat": 4,
 "nbformat_minor": 2
}

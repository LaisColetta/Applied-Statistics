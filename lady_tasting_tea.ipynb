{
 "cells": [
  {
   "cell_type": "code",
   "execution_count": 4,
   "metadata": {},
   "outputs": [
    {
     "name": "stdout",
     "output_type": "stream",
     "text": [
      "Number of ways to select 4 milk-first cups: 70\n",
      "Number of ways to select 4 cups in order: 1680\n",
      "Number of ways to shuffle 4 cups: 24\n",
      "Number of unique combinations: 70\n"
     ]
    }
   ],
   "source": [
    "import math   \n",
    "import numpy as np  \n",
    "import matplotlib.pyplot as plt  \n",
    "\n",
    "#####Here are the references for similar work: ADD HERE LAIS!\n",
    "\n",
    "# Define the total number of cups in the experiment\n",
    "total_cups = 8  \n",
    "\n",
    "# Define the number of cups where milk is added first\n",
    "milk_first_cups = 4  \n",
    "\n",
    "# Define the number of cups where tea is added first\n",
    "tea_first_cups = 4  \n",
    "\n",
    "# Calculate the number of ways to choose 4 milk-first cups from a total of 8 cups.\n",
    "# This uses the \"combinations\" formula: C(n, r) = n! / (r! * (n - r)!)\n",
    "num_combinations = math.comb(total_cups, milk_first_cups)\n",
    "\n",
    "# Display the result: Number of ways to select 4 milk-first cups from 8\n",
    "print(f\"Number of ways to select 4 milk-first cups: {num_combinations}\")\n",
    "\n",
    "# Calculate the total number of ways to arrange 4 cups selected from 8, in order.\n",
    "# This is equivalent to: 8 * 7 * 6 * 5 (since we select without replacement)\n",
    "num_ordered_selections = 8 * 7 * 6 * 5\n",
    "\n",
    "# Display the result: Number of ways to select 4 cups in a specific order\n",
    "print(f\"Number of ways to select 4 cups in order: {num_ordered_selections}\")\n",
    "\n",
    "# Calculate the number of ways to shuffle the 4 selected cups.\n",
    "# This is 4! (4 factorial), which equals 4 * 3 * 2 * 1 = 24\n",
    "num_shuffles = 4 * 3 * 2 * 1\n",
    "\n",
    "# Display the result: Number of ways to shuffle 4 cups\n",
    "print(f\"Number of ways to shuffle 4 cups: {num_shuffles}\")\n",
    "\n",
    "# Calculate the final number of unique combinations (without considering order).\n",
    "# We divide the ordered selections by the number of ways to shuffle them: \n",
    "unique_combinations = num_ordered_selections // num_shuffles\n",
    "\n",
    "# Display the result: Number of unique combinations\n",
    "print(f\"Number of unique combinations: {unique_combinations}\")\n"
   ]
  }
 ],
 "metadata": {
  "kernelspec": {
   "display_name": "Python 3",
   "language": "python",
   "name": "python3"
  },
  "language_info": {
   "codemirror_mode": {
    "name": "ipython",
    "version": 3
   },
   "file_extension": ".py",
   "mimetype": "text/x-python",
   "name": "python",
   "nbconvert_exporter": "python",
   "pygments_lexer": "ipython3",
   "version": "3.10.4"
  }
 },
 "nbformat": 4,
 "nbformat_minor": 2
}

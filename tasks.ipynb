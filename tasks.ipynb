{
 "cells": [
  {
   "cell_type": "markdown",
   "metadata": {},
   "source": [
    "# Tasks Applied Statistics - Winter 2024\n",
    "\n",
    "Lecturer: Ian McLoughlin  \n",
    "Author: Lais Coletta Pereira  \n",
    "\n",
    "---"
   ]
  },
  {
   "cell_type": "code",
   "execution_count": 66,
   "metadata": {},
   "outputs": [],
   "source": [
    "# Core libraries used in this notebook\n",
    "import math\n",
    "import numpy as np\n",
    "import pandas as pd\n",
    "\n",
    "# Statistical functions and distributions\n",
    "from scipy.special import comb \n",
    "from scipy.stats import shapiro, norm \n",
    "from scipy.stats import ttest_rel\n",
    "from scipy.stats import f_oneway\n",
    "\n",
    "\n",
    "# Plotting libraries\n",
    "import matplotlib.pyplot as plt\n",
    "import seaborn as sns"
   ]
  },
  {
   "cell_type": "markdown",
   "metadata": {},
   "source": [
    "## Task 1: Permutations and Combinations\n",
    "\n",
    "_Suppose we alter the Lady Tasting Tea experiment to involve twelve cups of tea. Six have the milk in first and the other six having tea in first. A person claims they have the special power of being able to tell whether the tea or the milk went into a cup first upon tasting it. You agree to accept their claim if they can tell which of the six cups in your experiment had the milk in first_.\n",
    "\n",
    "- _Calculate, using Python, the probability that they select the correct six cups. Here you should assume that they have no special powers in figuring it out, that they are just guessing. Remember to show and justify your workings in code and MarkDown cells._\n",
    "\n",
    "### Steps:\n",
    "1. Calculate the total number of ways to select 6 cups from 12.\n",
    "2. Calculate the successful ways for different scenarios (6/5/4 correct attempts).\n",
    "3. Sum up the successful ways.\n",
    "4. Calculate the probability."
   ]
  },
  {
   "cell_type": "markdown",
   "metadata": {},
   "source": [
    "**Methodology**: To compute the required probabilities, we use the formula for combinations:  \n",
    "\n",
    "$$\n",
    "\\binom{n}{k} = \\frac{n!}{k! \\cdot (n-k)!}\n",
    "$$\n",
    "\n",
    "\n",
    "**Calculations**:  \n",
    "\n",
    "- **Probability of All Correct (6 correct):**  \n",
    "$$\n",
    "P(6 \\, \\text{correct}) = \\frac{\\binom{6}{6} \\cdot \\binom{6}{0}}{\\binom{12}{6}}\n",
    "$$\n",
    "\n",
    "- **Probability of Exactly 5 Correct (1 error):**  \n",
    "$$\n",
    "P(5 \\, \\text{correct}) = \\frac{\\binom{6}{5} \\cdot \\binom{6}{1}}{\\binom{12}{6}}\n",
    "$$\n",
    "\n",
    "- **Probability of Exactly 4 Correct (2 errors):**  \n",
    "$$\n",
    "P(4 \\, \\text{correct}) = \\frac{\\binom{6}{4} \\cdot \\binom{6}{2}}{\\binom{12}{6}}\n",
    "$$\n",
    "\n",
    "**Combining Probabilities:**  \n",
    "\n",
    "- **At most 1 error:**  \n",
    "$$\n",
    "P(\\text{at most 1 error}) = P(6 \\, \\text{correct}) + P(5 \\, \\text{correct})\n",
    "$$\n",
    "\n",
    "- **At most 2 errors:**  \n",
    "$$\n",
    "P(\\text{at most 2 errors}) = P(6 \\, \\text{correct}) + P(5 \\, \\text{correct}) + P(4 \\, \\text{correct})\n",
    "$$\n"
   ]
  },
  {
   "cell_type": "code",
   "execution_count": 67,
   "metadata": {},
   "outputs": [
    {
     "name": "stdout",
     "output_type": "stream",
     "text": [
      "Probability of selecting all 6 milk-first cups correctly: 0.0010822511\n"
     ]
    }
   ],
   "source": [
    "#We can easily do it using the math.comb method as per reference code: https://www.w3schools.com/python/ref_math_comb.asp\n",
    "#Syntax: math.comb(n, k) - Note: The parameters passed in this method must be positive integers.\n",
    "\n",
    "total_cups = 12  # Total number of cups\n",
    "milk_cups = 6  # Number of cups with milk added first\n",
    "tea_cups = 6  # Number of cups with tea added first\n",
    "all_attempts = comb(total_cups, milk_cups)\n",
    "probability = 1 / all_attempts\n",
    "\n",
    "print(f\"Probability of selecting all 6 milk-first cups correctly: {probability:.10f}\")\n"
   ]
  },
  {
   "cell_type": "markdown",
   "metadata": {},
   "source": [
    "The probability of selecting all 6 milk-first cups correctly (0.0010822511) is determined by dividing the number of favorable outcomes ($\\binom{6}{6} \\times \\binom{6}{0} = 1$) by the total possible outcomes ($\\binom{12}{6} = 924$). This ratio reflects the likelihood of correctly identifying all 6 milk-first cups from 12 total cups (6 milk-first, 6 tea-first) by chance, assuming no special abilities. With a probability of approximately 0.1%, this result demonstrates the extremely low likelihood of success if the guesses are entirely random.\n"
   ]
  },
  {
   "cell_type": "markdown",
   "metadata": {},
   "source": [
    "### - **_Suppose, now, you are willing to accept one error. Once they select the six cups they think had the milk in first, you will give them the benefit of the doubt should they have selected at least five of the correct cups. Calculate the probability, assuming they have no special powers, that the person makes at most one error._**"
   ]
  },
  {
   "cell_type": "code",
   "execution_count": 68,
   "metadata": {},
   "outputs": [
    {
     "name": "stdout",
     "output_type": "stream",
     "text": [
      "Probability of selecting at least 5 correct cups: 0.0400432900\n"
     ]
    }
   ],
   "source": [
    "# Calculate the number of ways she has to select exactly 5 correct and 1 incorrect (combination)\n",
    "five_correct_cups = comb(6, 5) * comb(6, 1) \n",
    "\n",
    "# Calculate the number of ways to select all 6 cups correctly\n",
    "six_correct_cups = 1  # There is only one way to pick all 6 correctly as only 6 cups have milk in first\n",
    "\n",
    "# Total successful ways \n",
    "successful_ways = five_correct_cups + six_correct_cups\n",
    "\n",
    "# Probability of selecting at least 5 correct cups\n",
    "probability_five_cups_correct= successful_ways / all_attempts\n",
    "\n",
    "print(f\"Probability of selecting at least 5 correct cups: {probability_five_cups_correct:.10f}\")\n"
   ]
  },
  {
   "cell_type": "markdown",
   "metadata": {},
   "source": [
    "**Combination Formula**: In combinatorics, the combination formula (\\(\\binom{n}{k}\\)) is used to calculate how many ways you can choose \\(k\\) elements from a set of \\(n\\) elements. The function `comb(n, k)` computes this for given \\(n\\) and \\(k\\).\n",
    "  \n",
    "**At Least 5 Correct**: The problem involves calculating the probability of selecting **at least 5 correct cups** out of 6 selections. The code accounts for two cases:\n",
    "  1. 5 correct + 1 incorrect cup.\n",
    "  2. 6 correct cups.\n",
    "  \n",
    "**Total Outcomes**: The total number of possible outcomes (`all_attempts`) is the total number of ways to choose 6 cups from the 12, represented by \\(\\binom{12}{6}\\).\n",
    "\n",
    "The calculated probability represents the likelihood of randomly selecting **at least 5 correct cups** out of the 12 cups, considering that there are 6 milk-first cups and 6 tea-first cups. Since this probability is relatively low, it demonstrates that success in this selection process is unlikely if the selection is random."
   ]
  },
  {
   "cell_type": "markdown",
   "metadata": {},
   "source": [
    "### - **_Would you accept two errors? Explain_.**"
   ]
  },
  {
   "cell_type": "code",
   "execution_count": 69,
   "metadata": {},
   "outputs": [
    {
     "name": "stdout",
     "output_type": "stream",
     "text": [
      "Probability of selecting at least 4 correct cups: 0.2835497835\n"
     ]
    }
   ],
   "source": [
    "# Calculate the number of ways to select exactly 4 correct and 2 incorrect (combination)\n",
    "four_correct_cups = comb(milk_cups, 4) * comb(tea_cups, 2) \n",
    "successful_ways = four_correct_cups + five_correct_cups + six_correct_cups\n",
    "probability_four_cups_correct = successful_ways / all_attempts\n",
    "print(f\"Probability of selecting at least 4 correct cups: {probability_four_cups_correct:.10f}\")"
   ]
  },
  {
   "cell_type": "markdown",
   "metadata": {},
   "source": [
    "The probability now is 0.28 (5 cups it was 0.04). Allowing two errors increases the probability of success because more scenarios (at least 4 correct cups) become possible. I would not accept two errors, because while this makes the guessing process slightly easier, it also **lowers the reliability of the test by making it easier for the lady to guess the tea cup that has tea first**. \n",
    "\n",
    "Therefore, allowing more errors improves the odds of success but reduces the robustness and reliability of the selection. "
   ]
  },
  {
   "cell_type": "markdown",
   "metadata": {},
   "source": [
    "### References:\n",
    "\n",
    "1. \"Permutations and Combinations.\" *GeeksforGeeks.* Retrieved from [https://www.geeksforgeeks.org/permutations-and-combinations/](https://www.geeksforgeeks.org/permutations-and-combinations/)\n",
    "\n",
    "2. \"Easy Permutations and Combinations.\" *BetterExplained.* Retrieved from [https://betterexplained.com/articles/easy-permutations-and-combinations/](https://betterexplained.com/articles/easy-permutations-and-combinations/)\n",
    "\n",
    "3. \"Fisher's Tea Problem.\" *Wild Pandas.* Retrieved from [https://lisds.github.io/textbook/wild-pandas/fishers_tea.html](https://lisds.github.io/textbook/wild-pandas/fishers_tea.html)\n",
    "\n",
    "4. \"math.comb() Function.\" *W3Schools.* Retrieved from [https://www.w3schools.com/python/ref_math_comb.asp](https://www.w3schools.com/python/ref_math_comb.asp)\n"
   ]
  },
  {
   "cell_type": "markdown",
   "metadata": {},
   "source": [
    "---\n",
    "\n",
    "## Task 2: Numpy's Normal Distribution\n",
    "\n",
    "- **_In this task you will assess whether numpy.random.normal() properly generates normal values. To begin, generate a sample of one hundred thousand values using the function with mean 10.0 and standard deviation 3.0._**\n",
    "\n",
    "Mean ($\\mu$) = 10.0  \n",
    "Standard Deviation ($\\sigma$) = 3.0"
   ]
  },
  {
   "cell_type": "code",
   "execution_count": 70,
   "metadata": {},
   "outputs": [],
   "source": [
    "\n",
    "#Generate a sample of 100.000 values\n",
    "sample_size = 100_000\n",
    "\n",
    "#Using the function with mean 10.0 and standard deviation 3.0.\n",
    "mean = 10.0\n",
    "std_dev = 3.0\n",
    "sample = np.random.normal(loc=mean, scale=std_dev, size=sample_size)\n"
   ]
  },
  {
   "cell_type": "markdown",
   "metadata": {},
   "source": [
    "The `np.random.normal()`function from the **NumPy** library generates random numbers that follow a **normal (Gaussian) distribution**.\n",
    "\n",
    "- `loc=mean`: This parameter sets the **mean** (\\(\\mu\\)) of the distribution, which determines the center of the distribution. In this case, the mean is stored in the variable `mean`, which is **10.0**.\n",
    "\n",
    "- `scale=std_dev`: This parameter sets the **standard deviation** (\\(\\sigma\\)) of the distribution, which controls how spread out the values are. The standard deviation is stored in the variable `std_dev`, and it is **3.0**.\n",
    "\n",
    "- `size=sample_size`: This parameter specifies how many random values to generate. The `sample_size` variable is set to **100,000**, meaning the function generates **100,000** random values.\n",
    "\n",
    "The result is an array (`sample`) of **100,000** random values that follow a normal distribution with a **mean of 10.0** and a **standard deviation of 3.0**.\n"
   ]
  },
  {
   "cell_type": "markdown",
   "metadata": {},
   "source": [
    "### - **_Use the scipy.stats.shapiro() function to test whether your sample came from a normal distribution. Explain the results and output._**"
   ]
  },
  {
   "cell_type": "code",
   "execution_count": 71,
   "metadata": {},
   "outputs": [
    {
     "name": "stderr",
     "output_type": "stream",
     "text": [
      "/Applications/anaconda3/lib/python3.12/site-packages/scipy/stats/_axis_nan_policy.py:531: UserWarning: scipy.stats.shapiro: For N > 5000, computed p-value may not be accurate. Current N is 100000.\n",
      "  res = hypotest_fun_out(*samples, **kwds)\n"
     ]
    },
    {
     "data": {
      "text/plain": [
       "ShapiroResult(statistic=0.999978286082786, pvalue=0.875007622861179)"
      ]
     },
     "execution_count": 71,
     "metadata": {},
     "output_type": "execute_result"
    }
   ],
   "source": [
    "# Perform the Shapiro Wilk test.\n",
    "shapiro(sample)"
   ]
  },
  {
   "cell_type": "markdown",
   "metadata": {},
   "source": [
    "`shapiro()`: This function is from the **SciPy** library, used to test whether a sample comes from a normal distribution.\n",
    "  \n",
    "The **Shapiro-Wilk test** computes a test statistic and a p-value. If the p-value is small (typically less than 0.05), it suggests that the sample does not follow a normal distribution. If the p-value is large, we fail to reject the hypothesis that the data follows a normal distribution."
   ]
  },
  {
   "cell_type": "markdown",
   "metadata": {},
   "source": [
    "### **_Plot a histogram of your values and plot the corresponding normal distribution probability density function on top of it._**"
   ]
  },
  {
   "cell_type": "code",
   "execution_count": 72,
   "metadata": {},
   "outputs": [
    {
     "data": {
      "image/png": "[encoded data removed]",
      "text/plain": [
       "<Figure size 1200x500 with 1 Axes>"
      ]
     },
     "metadata": {},
     "output_type": "display_data"
    }
   ],
   "source": [
    "#Reference Code: https://www.geeksforgeeks.org/how-to-plot-normal-distribution-over-histogram-in-python , https://www.geeksforgeeks.org/how-to-plot-normal-distribution-over-histogram-in-python\n",
    "fig, ax = plt.subplots(figsize=(12, 5))\n",
    "\n",
    "# Plot the histogram of the data with density normalization\n",
    "ax.hist(sample, edgecolor='black', density=True, bins=30, alpha=0.6)\n",
    "\n",
    "# Create an x range.\n",
    "x = np.linspace(mean - 4*std_dev, mean + 4*std_dev, 1000)\n",
    "\n",
    "# Get y values.\n",
    "y = norm.pdf(x, mean, std_dev)\n",
    "\n",
    "# Plot the normal distribution curve\n",
    "ax.plot(x, y, 'r-')\n",
    "\n",
    "# Customize the plot\n",
    "ax.set_title(\"Histogram of Sample Data with Normal Distribution Curve\")\n",
    "ax.set_xlabel(\"Value\")\n",
    "plt.show()"
   ]
  },
  {
   "cell_type": "markdown",
   "metadata": {},
   "source": [
    "- **`ax.hist()`**: Plots the normalized histogram of the `sample`.\n",
    "- **`x = np.linspace()`**: Generates x-values covering 4 standard deviations around the mean.\n",
    "- **`y = norm.pdf()`**: Computes the probability density for the normal distribution.\n",
    "- **`ax.plot()`**: Plots the normal distribution curve.\n",
    "- **`plt.show()`**: Displays the plot with the histogram and curve."
   ]
  },
  {
   "cell_type": "markdown",
   "metadata": {},
   "source": [
    "### References\n",
    "\n",
    "1. \"Python Code Example.\" *OneCompiler.* Retrieved from [https://onecompiler.com/python/42azwxnth](https://onecompiler.com/python/42azwxnth)\n",
    "\n",
    "2. \"Shapiro-Wilk Test.\" *SciPy Documentation.* Retrieved from [https://docs.scipy.org/doc/scipy/reference/generated/scipy.stats.shapiro.html](https://docs.scipy.org/doc/scipy/reference/generated/scipy.stats.shapiro.html)\n",
    "\n",
    "3. \"Shapiro-Wilk Test for Normality.\" *Wikipedia.* Retrieved from [https://en.wikipedia.org/wiki/Shapiro%E2%80%93Wilk_test](https://en.wikipedia.org/wiki/Shapiro%E2%80%93Wilk_test)\n",
    "\n",
    "4. \"Matplotlib Documentation.\" *Matplotlib.* Retrieved from [https://matplotlib.org/stable/contents.html](https://matplotlib.org/stable/contents.html)\n",
    "\n",
    "5. \"Normal Distribution.\" *Wikipedia.* Retrieved from [https://en.wikipedia.org/wiki/Normal_distribution](https://en.wikipedia.org/wiki/Normal_distribution)\n",
    "\n",
    "6. \"GeeksforGeeks: How to Plot Normal Distribution Over Histogram in Python.\" Retrieved from [https://www.geeksforgeeks.org/how-to-plot-normal-distribution-over-histogram-in-python](https://www.geeksforgeeks.org/how-to-plot-normal-distribution-over-histogram-in-python)\n"
   ]
  },
  {
   "cell_type": "markdown",
   "metadata": {},
   "source": [
    "---\n",
    "\n",
    "# Task 3: t-Test Calculation\n",
    "_Consider the following dataset containing resting heart rates for patients before and after embarking on a two-week exercise program_.\n",
    "\n",
    "| Patient ID | Before | After |\n",
    "|------------|--------|-------|\n",
    "| 0          | 63     | 64    |\n",
    "| 1          | 68     | 64    |\n",
    "| 2          | 70     | 68    |\n",
    "| 3          | 64     | 64    |\n",
    "| 4          | 74     | 73    |\n",
    "| 5          | 67     | 70    |\n",
    "| 6          | 70     | 72    |\n",
    "| 7          | 57     | 54    |\n",
    "| 8          | 66     | 61    |\n",
    "| 9          | 65     | 63    |\n",
    "\n",
    "\n",
    "\n",
    "### **_Part 1: Calculate the t-statistic based on this data set, using Python_.** \n",
    "\n",
    "Definition reminder:\n",
    "- **t-statistic**: Measures the degree of difference between the two paired groups (before and after).\n",
    "- **p-value**: Indicates the probability of observing this difference if the null hypothesis (no difference) were true. The lower the p-value, the greater the statistical significance of the observed difference. A p-value of 0.05 or lower is generally considered statistically significant. ([source](https://www.investopedia.com/terms/p/p-value.asp#:~:text=A%20p%2Dvalue%20measures%20the,is%20generally%20considered%20statistically%20significant.))"
   ]
  },
  {
   "cell_type": "code",
   "execution_count": 73,
   "metadata": {},
   "outputs": [
    {
     "data": {
      "text/html": [
       "<div>\n",
       "<style scoped>\n",
       "    .dataframe tbody tr th:only-of-type {\n",
       "        vertical-align: middle;\n",
       "    }\n",
       "\n",
       "    .dataframe tbody tr th {\n",
       "        vertical-align: top;\n",
       "    }\n",
       "\n",
       "    .dataframe thead th {\n",
       "        text-align: right;\n",
       "    }\n",
       "</style>\n",
       "<table border=\"1\" class=\"dataframe\">\n",
       "  <thead>\n",
       "    <tr style=\"text-align: right;\">\n",
       "      <th></th>\n",
       "      <th>Before</th>\n",
       "      <th>After</th>\n",
       "    </tr>\n",
       "    <tr>\n",
       "      <th>Patient ID</th>\n",
       "      <th></th>\n",
       "      <th></th>\n",
       "    </tr>\n",
       "  </thead>\n",
       "  <tbody>\n",
       "    <tr>\n",
       "      <th>0</th>\n",
       "      <td>63</td>\n",
       "      <td>64</td>\n",
       "    </tr>\n",
       "    <tr>\n",
       "      <th>1</th>\n",
       "      <td>68</td>\n",
       "      <td>64</td>\n",
       "    </tr>\n",
       "    <tr>\n",
       "      <th>2</th>\n",
       "      <td>70</td>\n",
       "      <td>68</td>\n",
       "    </tr>\n",
       "    <tr>\n",
       "      <th>3</th>\n",
       "      <td>64</td>\n",
       "      <td>64</td>\n",
       "    </tr>\n",
       "    <tr>\n",
       "      <th>4</th>\n",
       "      <td>74</td>\n",
       "      <td>73</td>\n",
       "    </tr>\n",
       "    <tr>\n",
       "      <th>5</th>\n",
       "      <td>67</td>\n",
       "      <td>70</td>\n",
       "    </tr>\n",
       "    <tr>\n",
       "      <th>6</th>\n",
       "      <td>70</td>\n",
       "      <td>72</td>\n",
       "    </tr>\n",
       "    <tr>\n",
       "      <th>7</th>\n",
       "      <td>57</td>\n",
       "      <td>54</td>\n",
       "    </tr>\n",
       "    <tr>\n",
       "      <th>8</th>\n",
       "      <td>66</td>\n",
       "      <td>61</td>\n",
       "    </tr>\n",
       "    <tr>\n",
       "      <th>9</th>\n",
       "      <td>65</td>\n",
       "      <td>63</td>\n",
       "    </tr>\n",
       "  </tbody>\n",
       "</table>\n",
       "</div>"
      ],
      "text/plain": [
       "            Before  After\n",
       "Patient ID               \n",
       "0               63     64\n",
       "1               68     64\n",
       "2               70     68\n",
       "3               64     64\n",
       "4               74     73\n",
       "5               67     70\n",
       "6               70     72\n",
       "7               57     54\n",
       "8               66     61\n",
       "9               65     63"
      ]
     },
     "execution_count": 73,
     "metadata": {},
     "output_type": "execute_result"
    }
   ],
   "source": [
    "\n",
    "# Creat the dataset\n",
    "data = {\n",
    "    'Patient ID': range(10),\n",
    "    'Before': [63, 68, 70, 64, 74, 67, 70, 57, 66, 65],\n",
    "    'After': [64, 64, 68, 64, 73, 70, 72, 54, 61, 63]\n",
    "}\n",
    "df = pd.DataFrame(data)\n",
    "df.set_index('Patient ID', inplace=True)\n",
    "df"
   ]
  },
  {
   "cell_type": "markdown",
   "metadata": {},
   "source": [
    "**Compute the Differences** $D$ between the \"Before\" and \"After\" values."
   ]
  },
  {
   "cell_type": "code",
   "execution_count": 74,
   "metadata": {},
   "outputs": [],
   "source": [
    "df['Difference'] = df['Before'] - df['After']"
   ]
  },
  {
   "cell_type": "markdown",
   "metadata": {},
   "source": [
    "**Calculate the Mean** $\\bar{D}$ of these differences."
   ]
  },
  {
   "cell_type": "code",
   "execution_count": 75,
   "metadata": {},
   "outputs": [],
   "source": [
    "mean = df['Difference'].mean()"
   ]
  },
  {
   "cell_type": "markdown",
   "metadata": {},
   "source": [
    "**Calculate the Standard Deviation** $s_D$ of these differences."
   ]
  },
  {
   "cell_type": "code",
   "execution_count": 76,
   "metadata": {},
   "outputs": [
    {
     "data": {
      "text/plain": [
       "(1.1, 2.601281735350223)"
      ]
     },
     "execution_count": 76,
     "metadata": {},
     "output_type": "execute_result"
    }
   ],
   "source": [
    "std = df['Difference'].std(ddof=1)  # Standard deviation with Bessel's correction\n",
    "n = len(df)  # Sample size\n",
    "\n",
    "mean , std"
   ]
  },
  {
   "cell_type": "markdown",
   "metadata": {},
   "source": [
    "**Compute the t-statistic** using the formula:\n",
    "\n",
    "   $$\n",
    "   t = \\frac{\\bar{D}}{s_D / \\sqrt{n}}\n",
    "   $$\n",
    "\n",
    "   where $n$ is the number of paired samples."
   ]
  },
  {
   "cell_type": "code",
   "execution_count": 77,
   "metadata": {},
   "outputs": [
    {
     "data": {
      "text/plain": [
       "1.3372274824806278"
      ]
     },
     "execution_count": 77,
     "metadata": {},
     "output_type": "execute_result"
    }
   ],
   "source": [
    "# Calculate t-statistic\n",
    "t_statistic = mean / (std / np.sqrt(n))\n",
    "t_statistic"
   ]
  },
  {
   "cell_type": "markdown",
   "metadata": {},
   "source": [
    "### _Part 2: Compare it to the value given by scipy.stats. Explain your work and list any sources used_."
   ]
  },
  {
   "cell_type": "code",
   "execution_count": 78,
   "metadata": {},
   "outputs": [
    {
     "name": "stdout",
     "output_type": "stream",
     "text": [
      "Manual t-statistic: 1.33723\n",
      "SciPy t-statistic: 1.33723\n",
      "p-value: 0.21396\n"
     ]
    }
   ],
   "source": [
    "# Reference code: https://www.statology.org/paired-samples-t-test-python/\n",
    "# Calculate t-statistic using scipy.stats\n",
    "t_statistic_scipy, p_value = ttest_rel(df['Before'], df['After'])\n",
    "\n",
    "print(f\"Manual t-statistic: {t_statistic:.5f}\")\n",
    "print(f\"SciPy t-statistic: {t_statistic_scipy:.5f}\")\n",
    "print(f\"p-value: {p_value:.5f}\")"
   ]
  },
  {
   "cell_type": "markdown",
   "metadata": {},
   "source": [
    "**Code Walkthrough:**\n",
    "   - `ttest_rel(df['Before'], df['After'])`: This function calculates the t-statistic and p-value for paired samples, comparing the \"Before\" and \"After\" columns of the DataFrame `df`.\n",
    "   - `t_statistic_scipy`: Stores the t-statistic value calculated by SciPy.\n",
    "   - `p_value`: Stores the p-value which helps to determine the significance of the difference between the paired samples.\n",
    "\n",
    "**Comparison**: When comparing the t-statistic calculated manually to the value generated by the scipy.ttest_rel() function, both values were the same. This confirms that both methods accurately performed the paired sample t-test.\n",
    "\n",
    "**P-Value**: A p-value of 0.21 indicates that the difference between the \"before\" and \"after\" heart rates is not statistically significant. This suggests that any observed difference in heart rates could likely be due to random chance rather than a consistent effect of the exercise program."
   ]
  },
  {
   "cell_type": "markdown",
   "metadata": {},
   "source": [
    "### References\n",
    "\n",
    "1. \"P-Value Definition.\" *Investopedia.* Retrieved from [https://www.investopedia.com/terms/p/p-value.asp#:~:text=A%20p%2Dvalue%20measures%20the,is%20generally%20considered%20statistically%20significant](https://www.investopedia.com/terms/p/p-value.asp#:~:text=A%20p%2Dvalue%20measures%20the,is%20generally%20considered%20statistically%20significant)\n",
    "\n",
    "2. \"scipy.stats.ttest_rel.\" *SciPy Documentation.* Retrieved from [https://docs.scipy.org/doc/scipy/reference/generated/scipy.stats.ttest_rel.html#ttest-rel](https://docs.scipy.org/doc/scipy/reference/generated/scipy.stats.ttest_rel.html#ttest-rel)\n",
    "\n",
    "3. \"Example Paired Sample t-Test.\" *Minitab Support.* Retrieved from [https://support.minitab.com/en-us/minitab/help-and-how-to/statistics/basic-statistics/how-to/paired-t/before-you-start/example/](https://support.minitab.com/en-us/minitab/help-and-how-to/statistics/basic-statistics/how-to/paired-t/before-you-start/example/)\n",
    "\n",
    "4. \"How to Calculate Paired t-Test by Hand.\" *Statology*. Retrieved from [https://www.statology.org/paired-t-test-by-hand/](https://www.statology.org/paired-t-test-by-hand/)\n"
   ]
  },
  {
   "cell_type": "markdown",
   "metadata": {},
   "source": [
    "--- \n",
    "\n",
    "# Task 4: Anova\n",
    "_In this test we will estimate the probability of committing a type II error in specific circumstances. To begin, create a variable called no_type_ii and set it to 0_:"
   ]
  },
  {
   "cell_type": "code",
   "execution_count": 79,
   "metadata": {},
   "outputs": [],
   "source": [
    "type_ii = 0"
   ]
  },
  {
   "cell_type": "markdown",
   "metadata": {},
   "source": [
    "### _Now use a loop to perform the following test 10,000 times_.\n",
    "_Use numpy.random.normal to generate three samples with 100 values each. Give each a standard deviation of 0.1. Give the first sample a mean of 4.9, the second a mean of 5.0, and the third a mean of 5.1._"
   ]
  },
  {
   "cell_type": "code",
   "execution_count": 80,
   "metadata": {},
   "outputs": [],
   "source": [
    "# Parameters\n",
    "no_times = 10000 \n",
    "sample_size = 100  \n",
    "std_dev = 0.1 \n",
    "means = [4.9, 5.0, 5.1]  \n",
    "\n",
    "for _ in range(no_times):\n",
    "    # Generate three samples using numpy's random.normal function\n",
    "    # loc: mean of the distribution, scale: standard deviation, size: number of values in the sample\n",
    "    sample1 = np.random.normal(loc=means[0], scale=std_dev, size=sample_size)\n",
    "    sample2 = np.random.normal(loc=means[1], scale=std_dev, size=sample_size)\n",
    "    sample3 = np.random.normal(loc=means[2], scale=std_dev, size=sample_size)"
   ]
  },
  {
   "cell_type": "markdown",
   "metadata": {},
   "source": [
    "### _Perform one-way anova on the three samples and add 1 to no_type_ii whenever a type II error occurs._\n",
    "_Summarize and explain your results._"
   ]
  },
  {
   "cell_type": "code",
   "execution_count": 81,
   "metadata": {},
   "outputs": [
    {
     "name": "stdout",
     "output_type": "stream",
     "text": [
      "Number of Type II errors: 0\n",
      "Proportion of Type II errors: 0.0000\n"
     ]
    }
   ],
   "source": [
    "# Perform one-way ANOVA test\n",
    "f_stat, p_value = f_oneway(sample1, sample2, sample3)\n",
    "\n",
    "# Increment counter if a Type II error occurs (fail to reject null hypothesis)\n",
    "# Null hypothesis is rejected when p_value < 0.05\n",
    "if p_value >= 0.05:\n",
    "    type_ii += 1\n",
    "\n",
    "# Calculate the proportion of Type II errors\n",
    "type_ii_error_rate = type_ii / no_times\n",
    "\n",
    "# Print the results\n",
    "print(f\"Number of Type II errors: {type_ii}\")\n",
    "print(f\"Proportion of Type II errors: {type_ii_error_rate:.4f}\")"
   ]
  },
  {
   "cell_type": "markdown",
   "metadata": {},
   "source": [
    "#### What is a Type II Error?\n",
    "A **Type II error** occurs when the null hypothesis ($H_0$) is false, but the test fails to reject it.\n",
    "\n",
    "In this simulation:\n",
    "- The null hypothesis assumes that the means of the three groups are equal, i.e.,\n",
    "\n",
    "$$\n",
    "H_0: \\mu_1 = \\mu_2 = \\mu_3\n",
    "$$\n",
    "\n",
    "- However, the null hypothesis is false because the actual means are:\n",
    "\n",
    "$$\n",
    "\\mu_1 = 4.9, \\quad \\mu_2 = 5.0, \\quad \\mu_3 = 5.1\n",
    "$$\n",
    "\n",
    "#### Simulation Details\n",
    "1. **Samples**: Three independent samples are generated using `numpy.random.normal`.\n",
    "2. **Sample Size**: Each sample contains $n = 100$ values.\n",
    "3. **Means and Standard Deviations**:\n",
    "   - The means are different: \n",
    "     $$\\mu_1 = 4.9, \\quad \\mu_2 = 5.0, \\quad \\mu_3 = 5.1$$\n",
    "   - The standard deviation is constant and given by:\n",
    "     $$\\sigma = 0.1$$\n",
    "\n",
    "#### ANOVA Test\n",
    "- The **one-way ANOVA test** is performed using `scipy.stats.f_oneway` to determine whether there is a significant difference between the means of the three samples. The one-way ANOVA tests if the means of multiple groups are equal, based on the null hypothesis $H_0$.\n",
    "  \n",
    "The test computes the **F-statistic**, which is the ratio of the variance between the groups to the variance within the groups:\n",
    "\n",
    "$$\n",
    "F = \\frac{\\text{variance between groups}}{\\text{variance within groups}}\n",
    "$$\n",
    "\n",
    "- If the **F-statistic** is large and the **p-value** is small (typically less than 0.05), we **reject** the null hypothesis, indicating that there is a statistically significant difference between the groups.\n",
    "- If the **p-value** is greater than or equal to 0.05 ($p \\geq 0.05$), we fail to reject the null hypothesis and might potentially commit a **Type II error**. This would mean that despite the means being different, we are unable to detect the difference due to the power of the test being low.\n",
    "\n",
    "#### Results\n",
    "1. The number of Type II errors (`type_ii`) is counted over 10,000 iterations.\n",
    "2. The **proportion of Type II errors** is calculated as:\n",
    "\n",
    "$$\n",
    "\\text{Proportion of Type II errors} = \\frac{\\text{Number of Type II errors}}{\\text{Total number of iterations}}\n",
    "$$\n",
    "\n",
    "#### Results Explained\n",
    "- The result \"Number of Type II errors: 0\" and \"Proportion of Type II errors: 0.0000\" means that, over the course of the 10,000 simulations, **no Type II errors occurred**.\n",
    "- A **Type II error** occurs when we **fail to reject the null hypothesis** ($H_0$) even though it is false (i.e., when the group means are actually different).\n",
    "- If the Type II error proportion is **high**, it suggests that the statistical test is not sensitive enough to detect **small but meaningful differences** between the means.\n",
    "- A high proportion of Type II errors could result from conditions such as:\n",
    "  - **Small sample size** ($n$)\n",
    "  - **Low standard deviation** ($\\sigma$)\n",
    "  - **Small differences** between the means of the groups ($\\mu_1, \\mu_2, \\mu_3$)\n"
   ]
  },
  {
   "cell_type": "markdown",
   "metadata": {},
   "source": [
    "### References\n",
    "\n",
    "1. \"scipy.stats.f_oneway.\" *SciPy Documentation.* Retrieved from [https://docs.scipy.org/doc/scipy/reference/generated/scipy.stats.f_oneway.html](https://docs.scipy.org/doc/scipy/reference/generated/scipy.stats.f_oneway.html)\n",
    "\n",
    "2. \"Types of Errors in Hypothesis Testing.\" *Statistics by Jim.* Retrieved from [https://statisticsbyjim.com/hypothesis-testing/types-errors-hypothesis-testing/](https://statisticsbyjim.com/hypothesis-testing/types-errors-hypothesis-testing/)\n",
    "\n",
    "3. \"One-Way ANOVA Using SPSS Statistics.\" *Laerd Statistics.* Retrieved from [https://statistics.laerd.com/spss-tutorials/one-way-anova-using-spss-statistics.php](https://statistics.laerd.com/spss-tutorials/one-way-anova-using-spss-statistics.php)\n",
    "\n",
    "4. \"One-Way ANOVA (Analysis of Variance) in Python.\" *Statology.* Retrieved from [https://www.statology.org/one-way-anova-python/](https://www.statology.org/one-way-anova-python/)\n",
    "\n",
    "5. \"Type II Error.\" *Wikipedia.* Retrieved from [https://en.wikipedia.org/wiki/Type_II_error](https://en.wikipedia.org/wiki/Type_II_error)"
   ]
  },
  {
   "cell_type": "markdown",
   "metadata": {},
   "source": [
    "---\n",
    "### Thank you!"
   ]
  }
 ],
 "metadata": {
  "kernelspec": {
   "display_name": "Python 3",
   "language": "python",
   "name": "python3"
  },
  "language_info": {
   "codemirror_mode": {
    "name": "ipython",
    "version": 3
   },
   "file_extension": ".py",
   "mimetype": "text/x-python",
   "name": "python",
   "nbconvert_exporter": "python",
   "pygments_lexer": "ipython3",
   "version": "3.12.2"
  }
 },
 "nbformat": 4,
 "nbformat_minor": 2
}
